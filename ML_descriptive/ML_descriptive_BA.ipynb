{
 "cells": [
  {
   "cell_type": "code",
   "execution_count": 2,
   "metadata": {},
   "outputs": [],
   "source": [
    "import pandas as pd\n",
    "import seaborn as sns\n",
    "import matplotlib.pyplot as plt\n",
    "import plotly.express as px"
   ]
  },
  {
   "cell_type": "markdown",
   "metadata": {},
   "source": [
    "## 1. load data"
   ]
  },
  {
   "cell_type": "code",
   "execution_count": 48,
   "metadata": {},
   "outputs": [],
   "source": [
    "dataset = pd.read_excel('IFN/big_merge_V2_meteo_SAT.xlsx', sheet_name=\"Sheet1\")"
   ]
  },
  {
   "cell_type": "code",
   "execution_count": 49,
   "metadata": {},
   "outputs": [
    {
     "data": {
      "text/html": [
       "<div>\n",
       "<style scoped>\n",
       "    .dataframe tbody tr th:only-of-type {\n",
       "        vertical-align: middle;\n",
       "    }\n",
       "\n",
       "    .dataframe tbody tr th {\n",
       "        vertical-align: top;\n",
       "    }\n",
       "\n",
       "    .dataframe thead th {\n",
       "        text-align: right;\n",
       "    }\n",
       "</style>\n",
       "<table border=\"1\" class=\"dataframe\">\n",
       "  <thead>\n",
       "    <tr style=\"text-align: right;\">\n",
       "      <th></th>\n",
       "      <th>Unnamed: 0</th>\n",
       "      <th>PARCELLE</th>\n",
       "      <th>LAT</th>\n",
       "      <th>LON</th>\n",
       "      <th>ALT</th>\n",
       "      <th>PRODREG</th>\n",
       "      <th>HT_VEG</th>\n",
       "      <th>DATE</th>\n",
       "      <th>SLOPE25</th>\n",
       "      <th>ASPECT25</th>\n",
       "      <th>...</th>\n",
       "      <th>TAVE_AVG</th>\n",
       "      <th>TAVE</th>\n",
       "      <th>TAVE_GROWTH</th>\n",
       "      <th>PRCP_S_S</th>\n",
       "      <th>PRCP_G_S</th>\n",
       "      <th>NDVI</th>\n",
       "      <th>EVI</th>\n",
       "      <th>NDMI</th>\n",
       "      <th>NDWI</th>\n",
       "      <th>DSWI</th>\n",
       "    </tr>\n",
       "  </thead>\n",
       "  <tbody>\n",
       "    <tr>\n",
       "      <th>0</th>\n",
       "      <td>0</td>\n",
       "      <td>51</td>\n",
       "      <td>47.781623</td>\n",
       "      <td>8.612822</td>\n",
       "      <td>715.91897</td>\n",
       "      <td>1</td>\n",
       "      <td>3</td>\n",
       "      <td>1984-04-10</td>\n",
       "      <td>58.407726</td>\n",
       "      <td>67.342415</td>\n",
       "      <td>...</td>\n",
       "      <td>NaN</td>\n",
       "      <td>NaN</td>\n",
       "      <td>NaN</td>\n",
       "      <td>0.000000</td>\n",
       "      <td>0.000000</td>\n",
       "      <td>0.3779</td>\n",
       "      <td>0.0146</td>\n",
       "      <td>0.2264</td>\n",
       "      <td>-0.3325</td>\n",
       "      <td>0.4705</td>\n",
       "    </tr>\n",
       "    <tr>\n",
       "      <th>1</th>\n",
       "      <td>2403</td>\n",
       "      <td>51</td>\n",
       "      <td>47.781623</td>\n",
       "      <td>8.612822</td>\n",
       "      <td>715.91897</td>\n",
       "      <td>1</td>\n",
       "      <td>3</td>\n",
       "      <td>1994-10-19</td>\n",
       "      <td>58.407726</td>\n",
       "      <td>67.342415</td>\n",
       "      <td>...</td>\n",
       "      <td>8.8859</td>\n",
       "      <td>9.026806</td>\n",
       "      <td>13.84776</td>\n",
       "      <td>117.278617</td>\n",
       "      <td>51.835496</td>\n",
       "      <td>0.4992</td>\n",
       "      <td>0.0160</td>\n",
       "      <td>0.2705</td>\n",
       "      <td>-0.4653</td>\n",
       "      <td>0.6865</td>\n",
       "    </tr>\n",
       "  </tbody>\n",
       "</table>\n",
       "<p>2 rows × 118 columns</p>\n",
       "</div>"
      ],
      "text/plain": [
       "   Unnamed: 0  PARCELLE        LAT       LON        ALT  PRODREG  HT_VEG  \\\n",
       "0           0        51  47.781623  8.612822  715.91897        1       3   \n",
       "1        2403        51  47.781623  8.612822  715.91897        1       3   \n",
       "\n",
       "        DATE    SLOPE25   ASPECT25  ... TAVE_AVG      TAVE  TAVE_GROWTH  \\\n",
       "0 1984-04-10  58.407726  67.342415  ...      NaN       NaN          NaN   \n",
       "1 1994-10-19  58.407726  67.342415  ...   8.8859  9.026806     13.84776   \n",
       "\n",
       "     PRCP_S_S   PRCP_G_S    NDVI     EVI    NDMI    NDWI    DSWI  \n",
       "0    0.000000   0.000000  0.3779  0.0146  0.2264 -0.3325  0.4705  \n",
       "1  117.278617  51.835496  0.4992  0.0160  0.2705 -0.4653  0.6865  \n",
       "\n",
       "[2 rows x 118 columns]"
      ]
     },
     "execution_count": 49,
     "metadata": {},
     "output_type": "execute_result"
    }
   ],
   "source": [
    "dataset.head(2)"
   ]
  },
  {
   "cell_type": "code",
   "execution_count": 50,
   "metadata": {},
   "outputs": [],
   "source": [
    "dataset.drop([\"Unnamed: 0\", \"ETAGE\", \"ENDOMMAGEMENT\", \"NB_DEGAT_ARBRE\"], axis = 1, inplace=True)"
   ]
  },
  {
   "cell_type": "code",
   "execution_count": 51,
   "metadata": {},
   "outputs": [
    {
     "name": "stdout",
     "output_type": "stream",
     "text": [
      "Index(['PARCELLE', 'LAT', 'LON', 'ALT', 'PRODREG', 'HT_VEG', 'DATE', 'SLOPE25',\n",
      "       'ASPECT25', 'ORIENTATION',\n",
      "       ...\n",
      "       'TAVE_AVG', 'TAVE', 'TAVE_GROWTH', 'PRCP_S_S', 'PRCP_G_S', 'NDVI',\n",
      "       'EVI', 'NDMI', 'NDWI', 'DSWI'],\n",
      "      dtype='object', length=114)\n",
      "(9612, 114)\n"
     ]
    }
   ],
   "source": [
    "print(dataset.columns)\n",
    "print(dataset.shape)"
   ]
  },
  {
   "cell_type": "markdown",
   "metadata": {},
   "source": [
    "- features list"
   ]
  },
  {
   "cell_type": "code",
   "execution_count": 52,
   "metadata": {},
   "outputs": [],
   "source": [
    "# list of the target variables conducted in the project\n",
    "## 'PERF_CROI', 'SURF_TER_HA', 'DEGRAD_PPL', 'TAUX_COUV_RAJ', '25_GRID_PER', 'VOL_BOIS_MANQUANT', 'ACCR', 'UNIT_ACCR', 'UNIT_VOL_BOIS_MANQUANT'\n",
    "\n",
    "# categorical features\n",
    "## 'PARCELLE', 'PRODREG', 'DATE', 'ASPECT25', 'UNIT_VEG_FINE', 'UNIT_VEG_GROS', 'MODE_REGEN', 'INTENSITE_EXPLOIT', 'TRACES_FEU', 'NIV_DEV', 'MELANGE', 'RELIEF', 'DEG_FERMETURE', 'STR_PPL',\n",
    "## 'TYPE_FORET305', 'TYP_RAJ_PPL', 'TAUX_COUV_RAJ_FIN', 'TAUX_COUV_RAJ_ASS', 'ESPECE_DOM', 'FEU_RES', 'TYPE_FORET', 'PERI_CHENAUX', 'PERI_COULEES', 'PERI_AVALANCH', 'PERI_CHUTES', 'LFI',\n",
    "##  'ORIENTATION', 'INT_IFN2_IFN3', 'INT_IFN3-IFN4'\n",
    "\n",
    "# ordonated categorical features\n",
    "## 'HT_VEG', 'QUAL_STATION', 'REBOISEMENT_AN', 'TAILLE_PPL', 'DIV_STR_PPL_CLASS', 'SDI_CLASSE', 'NEXT_INTER_DATE', 'NEXT_INTER_TYPE', 'SURCHARGE', 'PROCESS_SILVA'\n",
    "\n",
    "# numerical features \n",
    "## 'LAT', 'LON', 'ALT', 'SLOPE25', 'AGE_PPL', 'DIV_STR_PPL', 'DDOM', 'DEG_SUR_PER', 'LAST_INTER_DATE', 'TIGES_VIV_H', 'SDI',  'EPIC_PER', 'SAPIN_PER', 'PIN_PER', 'MELEZ_PER', 'ARO_PER', 'OTHER_CONIF_PER',\n",
    "## 'HETR_PER', 'ERAB_PER', 'FREN_PER', 'CHEN_PER', 'DGANTCA', 'OTHER_FEUILL_PER', 'CONIF_PER_STD', 'ARBUST_PER', 'FEUILL_PER', 'CONIF_PER', 'SURF_TROU_AER', 'V_ALL', 'V_FICHT', 'V_TANNE', 'V_FOEHR',\n",
    "## 'V_LARCH', 'V_ARVEN', 'V_UENDH', 'V_BUCHE', 'V_AHORN', 'V_ESCHE', 'V_EICHE', 'V_CASTA', 'V_UELBH', 'NB_SAISON', 'VOL_BOIS_MANQUANT_NDH', 'VOL_BOIS_MANQUANT_LBH', 'UNIT_VOL_BOIS_MANQUANT_NDH',\n",
    "## 'UNIT_VOL_BOIS_MANQUANT_LBH', 'ACCR_NDH', 'ACCR_LBH',  'UNIT_ACCR_NDH', 'UNIT_ACCR_LBH', 'DBH', 'HAUTEUR_ARBRE', 'AGE_ARBRE', 'PRCP_SUM', 'PRCP', 'PRCP_GROWTH', 'TAVE_AVG',\n",
    "## 'TAVE', 'TAVE_GROWTH', 'PRCP_S_S', 'PRCP_G_S', 'AI', 'H_D', 'NDVI', 'EVI', 'NDMI', 'NDWI', 'DSWI'\n",
    "\n",
    "\n",
    "# parcelle inclut : ['LAT', 'LON', 'ALT', 'PRODREG', 'HT_VEG', 'SLOPE25', 'ASPECT25',\n",
    "#                    'ORIENTATION', 'PERF_CROI', 'QUAL_STATION', 'UNIT_VEG_FINE',\n",
    "#                    'UNIT_VEG_GROS', 'PROCESS_SILVA', 'PERI_CHENAUX', 'PERI_COULEES',\n",
    "#                    'PERI_AVALANCH', 'PERI_CHUTES', 'ETAGE', 'ENDOMMAGEMENT',\n",
    "#                    'NB_DEGAT_ARBRE']"
   ]
  },
  {
   "cell_type": "code",
   "execution_count": 53,
   "metadata": {},
   "outputs": [],
   "source": [
    "# the target variable of this script\n",
    "target = \"SURF_TER_HA\"\n",
    "\n",
    "# potential features\n",
    "categorical_features = ['LFI', 'PARCELLE','ORIENTATION', 'RELIEF', 'PRODREG', 'TRACES_FEU', 'INTENSITE_EXPLOIT',\n",
    "                        'MODE_REGEN', 'NIV_DEV', 'MELANGE', 'TYP_RAJ_PPL', 'ESPECE_DOM', 'FEU_RES', 'TYPE_FORET']\n",
    "\n",
    "ordi_categorical_features = ['HT_VEG', 'QUAL_STATION', 'REBOISEMENT_AN', 'TAILLE_PPL']\n",
    "\n",
    "numerical_features = ['LAT', 'LON', 'ALT', 'SLOPE25', 'AGE_PPL', 'TIGES_VIV_H', 'DIV_STR_PPL', 'DDOM', 'DEG_SUR_PER', 'FEUILL_PER', 'CONIF_PER', 'DBH', 'HAUTEUR_ARBRE', 'AGE_ARBRE',\n",
    "                      'PRCP_SUM', 'PRCP', 'PRCP_GROWTH', 'TAVE_AVG', 'TAVE', 'TAVE_GROWTH', 'PRCP_S_S', 'PRCP_G_S', 'AI', 'H_D', 'NDVI', 'EVI', 'NDMI', 'NDWI', 'DSWI']"
   ]
  },
  {
   "cell_type": "code",
   "execution_count": 54,
   "metadata": {},
   "outputs": [
    {
     "data": {
      "text/plain": [
       "0"
      ]
     },
     "execution_count": 54,
     "metadata": {},
     "output_type": "execute_result"
    }
   ],
   "source": [
    "len(dataset.loc[dataset[target].isna(), target])"
   ]
  },
  {
   "cell_type": "code",
   "execution_count": 55,
   "metadata": {},
   "outputs": [],
   "source": [
    "# adding aridity index\n",
    "dataset[\"AI\"] = dataset['PRCP_GROWTH'] / dataset['TAVE_GROWTH']\n",
    "# adding H/D index\n",
    "dataset[\"H_D\"] = dataset['HAUTEUR_ARBRE'] / dataset['DBH']"
   ]
  },
  {
   "cell_type": "code",
   "execution_count": 56,
   "metadata": {},
   "outputs": [],
   "source": [
    "from sklearn.model_selection import train_test_split\n",
    "from sklearn.pipeline import Pipeline\n",
    "from sklearn.impute import SimpleImputer\n",
    "from sklearn.preprocessing import  OneHotEncoder, StandardScaler, OrdinalEncoder\n",
    "from sklearn.compose import ColumnTransformer\n",
    "from sklearn.model_selection import cross_val_score, GridSearchCV\n",
    "from sklearn.linear_model import LinearRegression, Lasso\n",
    "from sklearn.metrics import accuracy_score, r2_score, mean_absolute_percentage_error"
   ]
  },
  {
   "cell_type": "markdown",
   "metadata": {},
   "source": [
    "## 2. Linear regression models"
   ]
  },
  {
   "cell_type": "markdown",
   "metadata": {},
   "source": [
    "#### preprocessing"
   ]
  },
  {
   "cell_type": "markdown",
   "metadata": {},
   "source": [
    "- NB: SDI is removed because it is computed from tree diameter and tree density"
   ]
  },
  {
   "cell_type": "code",
   "execution_count": 57,
   "metadata": {},
   "outputs": [
    {
     "name": "stdout",
     "output_type": "stream",
     "text": [
      "Explanatory variables :  Index(['ALT', 'SLOPE25', 'AGE_PPL', 'TIGES_VIV_H', 'DIV_STR_PPL', 'DDOM',\n",
      "       'DEG_SUR_PER', 'FEUILL_PER', 'CONIF_PER', 'DBH', 'HAUTEUR_ARBRE',\n",
      "       'AGE_ARBRE', 'PRCP_SUM', 'PRCP', 'PRCP_GROWTH', 'TAVE_AVG', 'TAVE',\n",
      "       'TAVE_GROWTH', 'PRCP_S_S', 'PRCP_G_S', 'AI', 'H_D', 'NDVI', 'EVI',\n",
      "       'NDMI', 'NDWI', 'DSWI', 'HT_VEG', 'QUAL_STATION', 'REBOISEMENT_AN',\n",
      "       'TAILLE_PPL', 'LFI', 'ORIENTATION', 'RELIEF', 'PRODREG', 'TRACES_FEU',\n",
      "       'INTENSITE_EXPLOIT', 'MODE_REGEN', 'NIV_DEV', 'MELANGE', 'TYP_RAJ_PPL',\n",
      "       'ESPECE_DOM', 'FEU_RES', 'TYPE_FORET'],\n",
      "      dtype='object')\n",
      "Dividing into train and test sets...\n",
      "...Done.\n"
     ]
    }
   ],
   "source": [
    "features_list = ['ALT', 'SLOPE25', 'AGE_PPL','TIGES_VIV_H', 'DIV_STR_PPL', 'DDOM', 'DEG_SUR_PER', 'FEUILL_PER', 'CONIF_PER', 'DBH', 'HAUTEUR_ARBRE', 'AGE_ARBRE',\n",
    "                 'PRCP_SUM', 'PRCP', 'PRCP_GROWTH', 'TAVE_AVG', 'TAVE', 'TAVE_GROWTH', 'PRCP_S_S', 'PRCP_G_S', 'AI', 'H_D', 'NDVI', 'EVI', 'NDMI', 'NDWI', 'DSWI', \n",
    "                \n",
    "                'HT_VEG', 'QUAL_STATION', 'REBOISEMENT_AN', 'TAILLE_PPL',\n",
    "                \n",
    "                'LFI', 'ORIENTATION', 'RELIEF', 'PRODREG', 'TRACES_FEU', 'INTENSITE_EXPLOIT',\n",
    "                'MODE_REGEN', 'NIV_DEV', 'MELANGE', 'TYP_RAJ_PPL', 'ESPECE_DOM', 'FEU_RES', 'TYPE_FORET']\n",
    "                \n",
    "# separation of the data\n",
    "X = dataset.loc[:, features_list]\n",
    "Y = dataset.loc[:, target]\n",
    "\n",
    "print('Explanatory variables : ', X.columns)\n",
    "\n",
    "# Divide dataset Train set & Test set \n",
    "print(\"Dividing into train and test sets...\")\n",
    "X_train, X_test, Y_train, Y_test = train_test_split(X, Y, test_size=0.2, random_state=0)\n",
    "print(\"...Done.\")"
   ]
  },
  {
   "cell_type": "code",
   "execution_count": 58,
   "metadata": {},
   "outputs": [
    {
     "name": "stdout",
     "output_type": "stream",
     "text": [
      "Encoding categorical features and standardizing numerical features...\n",
      "...Done\n",
      "[[ 0.52817489 -1.19846874  1.35798089 -1.14570654  2.0105166   1.17248088\n",
      "  -0.16512923 -0.29232772  0.25510912  2.10679595  1.2718684  -0.08449005\n",
      "  -0.28884312  0.38522877  0.01227071  0.40119749  1.08993594  0.74972315\n",
      "   0.3715359   0.49274797 -0.14623632 -0.82866287 -0.07324493 -0.08503916\n",
      "  -0.57770465 -0.07834944 -0.12811747  1.          0.          0.\n",
      "   0.          0.          1.          0.          0.          0.\n",
      "   0.          0.          0.          1.          0.          0.\n",
      "   0.          0.          0.          1.          1.          1.\n",
      "   0.          0.          0.          0.          0.          0.\n",
      "   0.          0.          0.          0.          1.          0.\n",
      "   1.          0.          0.          0.          1.          0.\n",
      "   0.          0.          0.          0.          1.          0.\n",
      "   0.          0.          0.          0.          0.          0.\n",
      "   0.          1.          0.          0.          0.          0.\n",
      "   0.          0.          2.          1.          0.          0.        ]\n",
      " [ 0.62056846 -0.28279796 -0.03471188 -0.92376799  0.01305404 -1.0167825\n",
      "  -0.16512923 -0.29232772  0.25510912 -0.62598    -0.00658919 -0.08449005\n",
      "   0.10727424 -0.0634572   0.15555016  0.05669531  0.10025377  0.108916\n",
      "  -1.7116825  -1.6718353   0.07506856 -0.13350842 -1.24637388 -0.72653858\n",
      "  -0.62417175  1.08224347 -1.12317949  0.          0.          0.\n",
      "   0.          0.          0.          0.          0.          0.\n",
      "   0.          0.          0.          1.          0.          0.\n",
      "   0.          1.          0.          0.          1.          0.\n",
      "   1.          0.          0.          0.          0.          0.\n",
      "   0.          0.          0.          0.          0.          1.\n",
      "   0.          1.          0.          0.          1.          0.\n",
      "   0.          1.          0.          0.          0.          0.\n",
      "   0.          0.          0.          0.          0.          0.\n",
      "   0.          1.          0.          0.          0.          0.\n",
      "   0.          0.          2.          1.          0.          0.        ]]\n",
      "Encoding categorical features and standardizing numerical features...\n",
      "...Done\n",
      "[[ 0.18811703  0.63939965 -0.03471188  0.18592473  0.01305404  0.27472539\n",
      "  -0.16512923 -0.29232772  0.25510912 -0.9773369  -0.02095388 -0.08449005\n",
      "   0.10727424 -0.0634572   0.15555016  0.05669531  0.10025377  0.108916\n",
      "  -1.7116825  -1.6718353   0.07506856  1.7476011   0.81358743  0.03375703\n",
      "   0.43652927 -0.4023461   0.44408818  0.          0.          0.\n",
      "   0.          0.          1.          0.          0.          0.\n",
      "   0.          0.          0.          1.          0.          0.\n",
      "   0.          0.          1.          0.          1.          0.\n",
      "   1.          0.          0.          0.          0.          0.\n",
      "   0.          0.          0.          0.          0.          1.\n",
      "   1.          0.          0.          0.          1.          0.\n",
      "   0.          1.          0.          0.          0.          0.\n",
      "   0.          0.          0.          0.          0.          0.\n",
      "   0.          1.          0.          0.          0.          0.\n",
      "   0.          0.          2.          2.          0.          0.        ]\n",
      " [-0.97793356 -0.64997634 -0.03471188  0.37715879  1.17824053  1.0779803\n",
      "  -0.16512923  1.85977826 -1.7148145   0.38905107  0.9127511  -0.08449005\n",
      "   0.73824175 -0.01168094  0.5777115   1.00351905  0.24056482 -0.84934247\n",
      "   0.80333513  0.68992664  0.6846311   0.20216094 -0.71180087 -0.58398315\n",
      "   2.10577064  0.42318685 -0.23356165  0.          1.          0.\n",
      "   0.          0.          0.          1.          0.          0.\n",
      "   0.          0.          0.          1.          0.          0.\n",
      "   0.          1.          0.          0.          1.          1.\n",
      "   0.          0.          1.          0.          0.          0.\n",
      "   0.          0.          0.          1.          0.          0.\n",
      "   0.          0.          1.          0.          1.          0.\n",
      "   0.          0.          0.          0.          0.          0.\n",
      "   0.          1.          0.          0.          0.          0.\n",
      "   0.          0.          1.          1.          0.          0.\n",
      "   0.          0.          0.          2.          0.          3.        ]]\n"
     ]
    }
   ],
   "source": [
    "numeric_features = ['ALT', 'SLOPE25', 'AGE_PPL','TIGES_VIV_H', 'DIV_STR_PPL', 'DDOM', 'DEG_SUR_PER', 'FEUILL_PER', 'CONIF_PER', 'DBH', 'HAUTEUR_ARBRE', 'AGE_ARBRE',\n",
    "                    'PRCP_SUM', 'PRCP', 'PRCP_GROWTH', 'TAVE_AVG', 'TAVE', 'TAVE_GROWTH', 'PRCP_S_S', 'PRCP_G_S', 'AI', 'H_D', 'NDVI', 'EVI', 'NDMI', 'NDWI', 'DSWI']\n",
    "categorical_features = ['LFI', 'ORIENTATION', 'RELIEF', 'PRODREG', 'TRACES_FEU', 'INTENSITE_EXPLOIT',\n",
    "                        'MODE_REGEN', 'NIV_DEV', 'MELANGE', 'TYP_RAJ_PPL', 'ESPECE_DOM', 'FEU_RES', 'TYPE_FORET']\n",
    "ordi_categorical_features = ['HT_VEG', 'QUAL_STATION', 'REBOISEMENT_AN', 'TAILLE_PPL']\n",
    "\n",
    "# preprocessings\n",
    "print(\"Encoding categorical features and standardizing numerical features...\")\n",
    "\n",
    "numeric_transformer = Pipeline(steps=[\n",
    "    ('imputer', SimpleImputer(strategy='median')),\n",
    "    ('scaler', StandardScaler())\n",
    "])\n",
    "\n",
    "categorical_transformer = Pipeline(\n",
    "    steps=[\n",
    "        ('imputer', SimpleImputer(strategy='most_frequent')),\n",
    "        ('encoder', OneHotEncoder(drop='first'))\n",
    "    ])\n",
    "\n",
    "ordi_cate_transformer = Pipeline(\n",
    "    steps=[\n",
    "        ('imputer', SimpleImputer(strategy='most_frequent')),\n",
    "        ('ordi_encoder', OrdinalEncoder(encoded_missing_value=0))\n",
    "    ])\n",
    "\n",
    "\n",
    "preprocessor = ColumnTransformer(\n",
    "    transformers=[\n",
    "        ('num', numeric_transformer, numeric_features),\n",
    "        ('cat', categorical_transformer, categorical_features),\n",
    "        ('ordicat', ordi_cate_transformer, ordi_categorical_features)\n",
    "    ])\n",
    "\n",
    "X_train = preprocessor.fit_transform(X_train)\n",
    "print(\"...Done\")\n",
    "print(X_train[0:2,:])\n",
    "\n",
    "print(\"Encoding categorical features and standardizing numerical features...\")\n",
    "X_test = preprocessor.transform(X_test)\n",
    "print(\"...Done\")\n",
    "print(X_test[0:2,:])"
   ]
  },
  {
   "cell_type": "markdown",
   "metadata": {},
   "source": [
    "#### model"
   ]
  },
  {
   "cell_type": "code",
   "execution_count": 59,
   "metadata": {},
   "outputs": [
    {
     "name": "stdout",
     "output_type": "stream",
     "text": [
      "Train model...\n",
      "...Done.\n"
     ]
    }
   ],
   "source": [
    "# Train model\n",
    "print(\"Train model...\")\n",
    "model_LR1 = LinearRegression()\n",
    "model_LR1.fit(X_train, Y_train)\n",
    "print(\"...Done.\")"
   ]
  },
  {
   "cell_type": "code",
   "execution_count": 121,
   "metadata": {},
   "outputs": [
    {
     "name": "stdout",
     "output_type": "stream",
     "text": [
      "R2 score on training set :  0.7925434991173538\n",
      "R2 score on test set :  0.8012471261059073\n",
      "MAPE score on training set :  214221092788881.72\n",
      "MAPE score on test set :  172379524861144.03\n"
     ]
    }
   ],
   "source": [
    "# predicted values\n",
    "Y_train_pred = model_LR1.predict(X_train)\n",
    "Y_test_predLF = model_LR1.predict(X_test)\n",
    "\n",
    "# Print R^2 scores\n",
    "print(\"R2 score on training set : \", r2_score(Y_train, Y_train_pred))\n",
    "print(\"R2 score on test set : \", r2_score(Y_test, Y_test_predLF))\n",
    "\n",
    "# Print MAPE score\n",
    "print(\"MAPE score on training set : \", mean_absolute_percentage_error(Y_train, Y_train_pred))\n",
    "print(\"MAPE score on test set : \", mean_absolute_percentage_error(Y_test, Y_test_predLF))"
   ]
  },
  {
   "cell_type": "code",
   "execution_count": 61,
   "metadata": {},
   "outputs": [
    {
     "name": "stdout",
     "output_type": "stream",
     "text": [
      "Names of columns corresponding to each coefficient:  ['ALT', 'SLOPE25', 'AGE_PPL', 'TIGES_VIV_H', 'DIV_STR_PPL', 'DDOM', 'DEG_SUR_PER', 'FEUILL_PER', 'CONIF_PER', 'DBH', 'HAUTEUR_ARBRE', 'AGE_ARBRE', 'PRCP_SUM', 'PRCP', 'PRCP_GROWTH', 'TAVE_AVG', 'TAVE', 'TAVE_GROWTH', 'PRCP_S_S', 'PRCP_G_S', 'AI', 'H_D', 'NDVI', 'EVI', 'NDMI', 'NDWI', 'DSWI', 'x0_LFI2', 'x0_LFI3', 'x0_LFI4', 'x1_N', 'x1_NE', 'x1_NO', 'x1_O', 'x1_S', 'x1_SE', 'x1_SO', 'x2_1', 'x2_2', 'x2_3', 'x2_4', 'x2_5', 'x3_2', 'x3_3', 'x3_4', 'x3_5', 'x4_2', 'x5_1', 'x5_2', 'x5_3', 'x6_1', 'x6_2', 'x6_3', 'x6_4', 'x7_1', 'x7_2', 'x7_3', 'x7_4', 'x7_5', 'x7_6', 'x8_1', 'x8_2', 'x8_3', 'x8_4', 'x9_1', 'x9_2', 'x9_3', 'x10_1', 'x10_2', 'x10_3', 'x10_4', 'x10_5', 'x10_6', 'x10_7', 'x10_8', 'x10_9', 'x10_10', 'x10_11', 'x10_12', 'x11_1', 'x11_2', 'x12_1', 'x12_2', 'x12_3', 'x12_4', 'x12_5', 'x0', 'x1', 'x2', 'x3']\n"
     ]
    },
    {
     "data": {
      "text/html": [
       "<div>\n",
       "<style scoped>\n",
       "    .dataframe tbody tr th:only-of-type {\n",
       "        vertical-align: middle;\n",
       "    }\n",
       "\n",
       "    .dataframe tbody tr th {\n",
       "        vertical-align: top;\n",
       "    }\n",
       "\n",
       "    .dataframe thead th {\n",
       "        text-align: right;\n",
       "    }\n",
       "</style>\n",
       "<table border=\"1\" class=\"dataframe\">\n",
       "  <thead>\n",
       "    <tr style=\"text-align: right;\">\n",
       "      <th></th>\n",
       "      <th>coefficients</th>\n",
       "    </tr>\n",
       "  </thead>\n",
       "  <tbody>\n",
       "    <tr>\n",
       "      <th>SLOPE25</th>\n",
       "      <td>4.587770e-03</td>\n",
       "    </tr>\n",
       "    <tr>\n",
       "      <th>DIV_STR_PPL</th>\n",
       "      <td>3.106320e-02</td>\n",
       "    </tr>\n",
       "    <tr>\n",
       "      <th>NDVI</th>\n",
       "      <td>4.009302e-02</td>\n",
       "    </tr>\n",
       "    <tr>\n",
       "      <th>x1_SO</th>\n",
       "      <td>4.602051e-02</td>\n",
       "    </tr>\n",
       "    <tr>\n",
       "      <th>TAVE</th>\n",
       "      <td>6.138533e-02</td>\n",
       "    </tr>\n",
       "    <tr>\n",
       "      <th>...</th>\n",
       "      <td>...</td>\n",
       "    </tr>\n",
       "    <tr>\n",
       "      <th>x7_3</th>\n",
       "      <td>6.025421e+12</td>\n",
       "    </tr>\n",
       "    <tr>\n",
       "      <th>x7_5</th>\n",
       "      <td>6.025421e+12</td>\n",
       "    </tr>\n",
       "    <tr>\n",
       "      <th>x7_4</th>\n",
       "      <td>6.025421e+12</td>\n",
       "    </tr>\n",
       "    <tr>\n",
       "      <th>x0_LFI4</th>\n",
       "      <td>1.004299e+13</td>\n",
       "    </tr>\n",
       "    <tr>\n",
       "      <th>x0_LFI3</th>\n",
       "      <td>1.004299e+13</td>\n",
       "    </tr>\n",
       "  </tbody>\n",
       "</table>\n",
       "<p>90 rows × 1 columns</p>\n",
       "</div>"
      ],
      "text/plain": [
       "             coefficients\n",
       "SLOPE25      4.587770e-03\n",
       "DIV_STR_PPL  3.106320e-02\n",
       "NDVI         4.009302e-02\n",
       "x1_SO        4.602051e-02\n",
       "TAVE         6.138533e-02\n",
       "...                   ...\n",
       "x7_3         6.025421e+12\n",
       "x7_5         6.025421e+12\n",
       "x7_4         6.025421e+12\n",
       "x0_LFI4      1.004299e+13\n",
       "x0_LFI3      1.004299e+13\n",
       "\n",
       "[90 rows x 1 columns]"
      ]
     },
     "execution_count": 61,
     "metadata": {},
     "output_type": "execute_result"
    }
   ],
   "source": [
    "column_names = []\n",
    "for name, pipeline, features_list in preprocessor.transformers_:\n",
    "    if name == 'num':\n",
    "        features = features_list\n",
    "    elif name == 'cat':\n",
    "        features = pipeline.named_steps['encoder'].get_feature_names_out()\n",
    "    else:\n",
    "        features = pipeline.named_steps['ordi_encoder'].get_feature_names_out()\n",
    "    column_names.extend(features)\n",
    "\n",
    "print(\"Names of columns corresponding to each coefficient: \", column_names)\n",
    "\n",
    "coefs = pd.DataFrame(index = column_names, data = model_LR1.coef_.transpose(), columns=[\"coefficients\"])\n",
    "# Compute abs() and sort values\n",
    "feature_importance = abs(coefs).sort_values(by = 'coefficients')\n",
    "feature_importance"
   ]
  },
  {
   "cell_type": "code",
   "execution_count": 62,
   "metadata": {},
   "outputs": [
    {
     "data": {
      "application/vnd.plotly.v1+json": {
       "config": {
        "plotlyServerURL": "https://plot.ly"
       },
       "data": [
        {
         "alignmentgroup": "True",
         "hovertemplate": "variable=coefficients<br>value=%{x}<br>index=%{y}<extra></extra>",
         "legendgroup": "coefficients",
         "marker": {
          "color": "#636efa",
          "pattern": {
           "shape": ""
          }
         },
         "name": "coefficients",
         "offsetgroup": "coefficients",
         "orientation": "h",
         "showlegend": true,
         "textposition": "auto",
         "type": "bar",
         "x": [
          0.004587769736766556,
          0.031063203169449438,
          0.04009302285677041,
          0.0460205078125,
          0.061385328236250425,
          0.08138419208576586,
          0.08656900162837644,
          0.08823121395822131,
          0.10805525881121669,
          0.1100353920596513,
          0.1318359375,
          0.17578125,
          0.19604784260532604,
          0.2533032768723402,
          0.268501133563253,
          0.323208860457747,
          0.38580322265625,
          0.43701171875,
          0.43873070023244154,
          0.460205078125,
          0.4643300983838546,
          0.4736328125,
          0.49755859375,
          0.5523632486110108,
          0.583251953125,
          0.587646484375,
          0.5905049548473751,
          0.6228831965919763,
          0.69061279296875,
          0.7962646484375,
          0.8578893352094807,
          0.8768598912161938,
          0.89776611328125,
          1.0104827880859375,
          1.079498291015625,
          1.1431745927150456,
          1.146787099148991,
          1.150634765625,
          1.2441709984228932,
          1.2841796875,
          1.419339506458145,
          1.77813720703125,
          1.974853515625,
          1.987548828125,
          1.9886474609375,
          2.1787109375,
          2.2277379342454733,
          3.11767578125,
          3.2451314989353,
          4.161382927768987,
          4.337816496019255,
          5.082183837890625,
          7.2683866017606995,
          11.818429988113465,
          12.558632394943714,
          2455815852517.892,
          2455815852517.894,
          2455815852530.3076,
          2455815852530.3545,
          2455815852530.4785,
          2455815852530.669,
          2455815852531.0215,
          2455815852531.142,
          2455815852531.317,
          2455815852531.466,
          2455815852532.19,
          2455815852532.327,
          2455815852532.3945,
          2455815852532.5176,
          4054408447995.9746,
          4054408447998.3887,
          4054408447998.9233,
          4054408447999.235,
          4054408447999.5654,
          5988582406828.398,
          5988582406830.994,
          5988582406831.83,
          5988582406833.621,
          6025421023067.294,
          6025421023068.276,
          6025421023068.648,
          6025421023069.008,
          6025421023069.458,
          6025421023070.355,
          6025421023071.171,
          6025421023071.744,
          6025421023072.398,
          6025421023073.789,
          10042990854821.145,
          10042990854821.697
         ],
         "xaxis": "x",
         "y": [
          "SLOPE25",
          "DIV_STR_PPL",
          "NDVI",
          "x1_SO",
          "TAVE",
          "NDMI",
          "FEUILL_PER",
          "CONIF_PER",
          "AGE_PPL",
          "DEG_SUR_PER",
          "x2",
          "x3",
          "PRCP",
          "AGE_ARBRE",
          "EVI",
          "TAVE_AVG",
          "x2_1",
          "x0",
          "x1_NO",
          "x1_SE",
          "TAVE_GROWTH",
          "x1",
          "x5_2",
          "AI",
          "x3_4",
          "x3_2",
          "NDWI",
          "DSWI",
          "x1_S",
          "x1_O",
          "PRCP_GROWTH",
          "PRCP_G_S",
          "x5_1",
          "x3_3",
          "x2_2",
          "ALT",
          "x1_N",
          "x3_5",
          "PRCP_SUM",
          "x5_3",
          "x1_NE",
          "x4_2",
          "x2_3",
          "x9_1",
          "x2_4",
          "x2_5",
          "PRCP_S_S",
          "x9_3",
          "DBH",
          "H_D",
          "HAUTEUR_ARBRE",
          "x9_2",
          "x0_LFI2",
          "DDOM",
          "TIGES_VIV_H",
          "x11_2",
          "x11_1",
          "x10_5",
          "x10_3",
          "x10_6",
          "x10_2",
          "x10_4",
          "x10_1",
          "x10_12",
          "x10_7",
          "x10_10",
          "x10_8",
          "x10_9",
          "x10_11",
          "x12_3",
          "x12_4",
          "x12_5",
          "x12_1",
          "x12_2",
          "x6_4",
          "x6_1",
          "x6_3",
          "x6_2",
          "x7_2",
          "x8_1",
          "x8_4",
          "x8_2",
          "x8_3",
          "x7_6",
          "x7_1",
          "x7_3",
          "x7_5",
          "x7_4",
          "x0_LFI4",
          "x0_LFI3"
         ],
         "yaxis": "y"
        }
       ],
       "layout": {
        "barmode": "relative",
        "legend": {
         "title": {
          "text": "variable"
         },
         "tracegroupgap": 0
        },
        "margin": {
         "l": 120,
         "t": 60
        },
        "showlegend": false,
        "template": {
         "data": {
          "bar": [
           {
            "error_x": {
             "color": "#2a3f5f"
            },
            "error_y": {
             "color": "#2a3f5f"
            },
            "marker": {
             "line": {
              "color": "#E5ECF6",
              "width": 0.5
             },
             "pattern": {
              "fillmode": "overlay",
              "size": 10,
              "solidity": 0.2
             }
            },
            "type": "bar"
           }
          ],
          "barpolar": [
           {
            "marker": {
             "line": {
              "color": "#E5ECF6",
              "width": 0.5
             },
             "pattern": {
              "fillmode": "overlay",
              "size": 10,
              "solidity": 0.2
             }
            },
            "type": "barpolar"
           }
          ],
          "carpet": [
           {
            "aaxis": {
             "endlinecolor": "#2a3f5f",
             "gridcolor": "white",
             "linecolor": "white",
             "minorgridcolor": "white",
             "startlinecolor": "#2a3f5f"
            },
            "baxis": {
             "endlinecolor": "#2a3f5f",
             "gridcolor": "white",
             "linecolor": "white",
             "minorgridcolor": "white",
             "startlinecolor": "#2a3f5f"
            },
            "type": "carpet"
           }
          ],
          "choropleth": [
           {
            "colorbar": {
             "outlinewidth": 0,
             "ticks": ""
            },
            "type": "choropleth"
           }
          ],
          "contour": [
           {
            "colorbar": {
             "outlinewidth": 0,
             "ticks": ""
            },
            "colorscale": [
             [
              0,
              "#0d0887"
             ],
             [
              0.1111111111111111,
              "#46039f"
             ],
             [
              0.2222222222222222,
              "#7201a8"
             ],
             [
              0.3333333333333333,
              "#9c179e"
             ],
             [
              0.4444444444444444,
              "#bd3786"
             ],
             [
              0.5555555555555556,
              "#d8576b"
             ],
             [
              0.6666666666666666,
              "#ed7953"
             ],
             [
              0.7777777777777778,
              "#fb9f3a"
             ],
             [
              0.8888888888888888,
              "#fdca26"
             ],
             [
              1,
              "#f0f921"
             ]
            ],
            "type": "contour"
           }
          ],
          "contourcarpet": [
           {
            "colorbar": {
             "outlinewidth": 0,
             "ticks": ""
            },
            "type": "contourcarpet"
           }
          ],
          "heatmap": [
           {
            "colorbar": {
             "outlinewidth": 0,
             "ticks": ""
            },
            "colorscale": [
             [
              0,
              "#0d0887"
             ],
             [
              0.1111111111111111,
              "#46039f"
             ],
             [
              0.2222222222222222,
              "#7201a8"
             ],
             [
              0.3333333333333333,
              "#9c179e"
             ],
             [
              0.4444444444444444,
              "#bd3786"
             ],
             [
              0.5555555555555556,
              "#d8576b"
             ],
             [
              0.6666666666666666,
              "#ed7953"
             ],
             [
              0.7777777777777778,
              "#fb9f3a"
             ],
             [
              0.8888888888888888,
              "#fdca26"
             ],
             [
              1,
              "#f0f921"
             ]
            ],
            "type": "heatmap"
           }
          ],
          "heatmapgl": [
           {
            "colorbar": {
             "outlinewidth": 0,
             "ticks": ""
            },
            "colorscale": [
             [
              0,
              "#0d0887"
             ],
             [
              0.1111111111111111,
              "#46039f"
             ],
             [
              0.2222222222222222,
              "#7201a8"
             ],
             [
              0.3333333333333333,
              "#9c179e"
             ],
             [
              0.4444444444444444,
              "#bd3786"
             ],
             [
              0.5555555555555556,
              "#d8576b"
             ],
             [
              0.6666666666666666,
              "#ed7953"
             ],
             [
              0.7777777777777778,
              "#fb9f3a"
             ],
             [
              0.8888888888888888,
              "#fdca26"
             ],
             [
              1,
              "#f0f921"
             ]
            ],
            "type": "heatmapgl"
           }
          ],
          "histogram": [
           {
            "marker": {
             "pattern": {
              "fillmode": "overlay",
              "size": 10,
              "solidity": 0.2
             }
            },
            "type": "histogram"
           }
          ],
          "histogram2d": [
           {
            "colorbar": {
             "outlinewidth": 0,
             "ticks": ""
            },
            "colorscale": [
             [
              0,
              "#0d0887"
             ],
             [
              0.1111111111111111,
              "#46039f"
             ],
             [
              0.2222222222222222,
              "#7201a8"
             ],
             [
              0.3333333333333333,
              "#9c179e"
             ],
             [
              0.4444444444444444,
              "#bd3786"
             ],
             [
              0.5555555555555556,
              "#d8576b"
             ],
             [
              0.6666666666666666,
              "#ed7953"
             ],
             [
              0.7777777777777778,
              "#fb9f3a"
             ],
             [
              0.8888888888888888,
              "#fdca26"
             ],
             [
              1,
              "#f0f921"
             ]
            ],
            "type": "histogram2d"
           }
          ],
          "histogram2dcontour": [
           {
            "colorbar": {
             "outlinewidth": 0,
             "ticks": ""
            },
            "colorscale": [
             [
              0,
              "#0d0887"
             ],
             [
              0.1111111111111111,
              "#46039f"
             ],
             [
              0.2222222222222222,
              "#7201a8"
             ],
             [
              0.3333333333333333,
              "#9c179e"
             ],
             [
              0.4444444444444444,
              "#bd3786"
             ],
             [
              0.5555555555555556,
              "#d8576b"
             ],
             [
              0.6666666666666666,
              "#ed7953"
             ],
             [
              0.7777777777777778,
              "#fb9f3a"
             ],
             [
              0.8888888888888888,
              "#fdca26"
             ],
             [
              1,
              "#f0f921"
             ]
            ],
            "type": "histogram2dcontour"
           }
          ],
          "mesh3d": [
           {
            "colorbar": {
             "outlinewidth": 0,
             "ticks": ""
            },
            "type": "mesh3d"
           }
          ],
          "parcoords": [
           {
            "line": {
             "colorbar": {
              "outlinewidth": 0,
              "ticks": ""
             }
            },
            "type": "parcoords"
           }
          ],
          "pie": [
           {
            "automargin": true,
            "type": "pie"
           }
          ],
          "scatter": [
           {
            "fillpattern": {
             "fillmode": "overlay",
             "size": 10,
             "solidity": 0.2
            },
            "type": "scatter"
           }
          ],
          "scatter3d": [
           {
            "line": {
             "colorbar": {
              "outlinewidth": 0,
              "ticks": ""
             }
            },
            "marker": {
             "colorbar": {
              "outlinewidth": 0,
              "ticks": ""
             }
            },
            "type": "scatter3d"
           }
          ],
          "scattercarpet": [
           {
            "marker": {
             "colorbar": {
              "outlinewidth": 0,
              "ticks": ""
             }
            },
            "type": "scattercarpet"
           }
          ],
          "scattergeo": [
           {
            "marker": {
             "colorbar": {
              "outlinewidth": 0,
              "ticks": ""
             }
            },
            "type": "scattergeo"
           }
          ],
          "scattergl": [
           {
            "marker": {
             "colorbar": {
              "outlinewidth": 0,
              "ticks": ""
             }
            },
            "type": "scattergl"
           }
          ],
          "scattermapbox": [
           {
            "marker": {
             "colorbar": {
              "outlinewidth": 0,
              "ticks": ""
             }
            },
            "type": "scattermapbox"
           }
          ],
          "scatterpolar": [
           {
            "marker": {
             "colorbar": {
              "outlinewidth": 0,
              "ticks": ""
             }
            },
            "type": "scatterpolar"
           }
          ],
          "scatterpolargl": [
           {
            "marker": {
             "colorbar": {
              "outlinewidth": 0,
              "ticks": ""
             }
            },
            "type": "scatterpolargl"
           }
          ],
          "scatterternary": [
           {
            "marker": {
             "colorbar": {
              "outlinewidth": 0,
              "ticks": ""
             }
            },
            "type": "scatterternary"
           }
          ],
          "surface": [
           {
            "colorbar": {
             "outlinewidth": 0,
             "ticks": ""
            },
            "colorscale": [
             [
              0,
              "#0d0887"
             ],
             [
              0.1111111111111111,
              "#46039f"
             ],
             [
              0.2222222222222222,
              "#7201a8"
             ],
             [
              0.3333333333333333,
              "#9c179e"
             ],
             [
              0.4444444444444444,
              "#bd3786"
             ],
             [
              0.5555555555555556,
              "#d8576b"
             ],
             [
              0.6666666666666666,
              "#ed7953"
             ],
             [
              0.7777777777777778,
              "#fb9f3a"
             ],
             [
              0.8888888888888888,
              "#fdca26"
             ],
             [
              1,
              "#f0f921"
             ]
            ],
            "type": "surface"
           }
          ],
          "table": [
           {
            "cells": {
             "fill": {
              "color": "#EBF0F8"
             },
             "line": {
              "color": "white"
             }
            },
            "header": {
             "fill": {
              "color": "#C8D4E3"
             },
             "line": {
              "color": "white"
             }
            },
            "type": "table"
           }
          ]
         },
         "layout": {
          "annotationdefaults": {
           "arrowcolor": "#2a3f5f",
           "arrowhead": 0,
           "arrowwidth": 1
          },
          "autotypenumbers": "strict",
          "coloraxis": {
           "colorbar": {
            "outlinewidth": 0,
            "ticks": ""
           }
          },
          "colorscale": {
           "diverging": [
            [
             0,
             "#8e0152"
            ],
            [
             0.1,
             "#c51b7d"
            ],
            [
             0.2,
             "#de77ae"
            ],
            [
             0.3,
             "#f1b6da"
            ],
            [
             0.4,
             "#fde0ef"
            ],
            [
             0.5,
             "#f7f7f7"
            ],
            [
             0.6,
             "#e6f5d0"
            ],
            [
             0.7,
             "#b8e186"
            ],
            [
             0.8,
             "#7fbc41"
            ],
            [
             0.9,
             "#4d9221"
            ],
            [
             1,
             "#276419"
            ]
           ],
           "sequential": [
            [
             0,
             "#0d0887"
            ],
            [
             0.1111111111111111,
             "#46039f"
            ],
            [
             0.2222222222222222,
             "#7201a8"
            ],
            [
             0.3333333333333333,
             "#9c179e"
            ],
            [
             0.4444444444444444,
             "#bd3786"
            ],
            [
             0.5555555555555556,
             "#d8576b"
            ],
            [
             0.6666666666666666,
             "#ed7953"
            ],
            [
             0.7777777777777778,
             "#fb9f3a"
            ],
            [
             0.8888888888888888,
             "#fdca26"
            ],
            [
             1,
             "#f0f921"
            ]
           ],
           "sequentialminus": [
            [
             0,
             "#0d0887"
            ],
            [
             0.1111111111111111,
             "#46039f"
            ],
            [
             0.2222222222222222,
             "#7201a8"
            ],
            [
             0.3333333333333333,
             "#9c179e"
            ],
            [
             0.4444444444444444,
             "#bd3786"
            ],
            [
             0.5555555555555556,
             "#d8576b"
            ],
            [
             0.6666666666666666,
             "#ed7953"
            ],
            [
             0.7777777777777778,
             "#fb9f3a"
            ],
            [
             0.8888888888888888,
             "#fdca26"
            ],
            [
             1,
             "#f0f921"
            ]
           ]
          },
          "colorway": [
           "#636efa",
           "#EF553B",
           "#00cc96",
           "#ab63fa",
           "#FFA15A",
           "#19d3f3",
           "#FF6692",
           "#B6E880",
           "#FF97FF",
           "#FECB52"
          ],
          "font": {
           "color": "#2a3f5f"
          },
          "geo": {
           "bgcolor": "white",
           "lakecolor": "white",
           "landcolor": "#E5ECF6",
           "showlakes": true,
           "showland": true,
           "subunitcolor": "white"
          },
          "hoverlabel": {
           "align": "left"
          },
          "hovermode": "closest",
          "mapbox": {
           "style": "light"
          },
          "paper_bgcolor": "white",
          "plot_bgcolor": "#E5ECF6",
          "polar": {
           "angularaxis": {
            "gridcolor": "white",
            "linecolor": "white",
            "ticks": ""
           },
           "bgcolor": "#E5ECF6",
           "radialaxis": {
            "gridcolor": "white",
            "linecolor": "white",
            "ticks": ""
           }
          },
          "scene": {
           "xaxis": {
            "backgroundcolor": "#E5ECF6",
            "gridcolor": "white",
            "gridwidth": 2,
            "linecolor": "white",
            "showbackground": true,
            "ticks": "",
            "zerolinecolor": "white"
           },
           "yaxis": {
            "backgroundcolor": "#E5ECF6",
            "gridcolor": "white",
            "gridwidth": 2,
            "linecolor": "white",
            "showbackground": true,
            "ticks": "",
            "zerolinecolor": "white"
           },
           "zaxis": {
            "backgroundcolor": "#E5ECF6",
            "gridcolor": "white",
            "gridwidth": 2,
            "linecolor": "white",
            "showbackground": true,
            "ticks": "",
            "zerolinecolor": "white"
           }
          },
          "shapedefaults": {
           "line": {
            "color": "#2a3f5f"
           }
          },
          "ternary": {
           "aaxis": {
            "gridcolor": "white",
            "linecolor": "white",
            "ticks": ""
           },
           "baxis": {
            "gridcolor": "white",
            "linecolor": "white",
            "ticks": ""
           },
           "bgcolor": "#E5ECF6",
           "caxis": {
            "gridcolor": "white",
            "linecolor": "white",
            "ticks": ""
           }
          },
          "title": {
           "x": 0.05
          },
          "xaxis": {
           "automargin": true,
           "gridcolor": "white",
           "linecolor": "white",
           "ticks": "",
           "title": {
            "standoff": 15
           },
           "zerolinecolor": "white",
           "zerolinewidth": 2
          },
          "yaxis": {
           "automargin": true,
           "gridcolor": "white",
           "linecolor": "white",
           "ticks": "",
           "title": {
            "standoff": 15
           },
           "zerolinecolor": "white",
           "zerolinewidth": 2
          }
         }
        },
        "xaxis": {
         "anchor": "y",
         "domain": [
          0,
          1
         ],
         "title": {
          "text": "value"
         }
        },
        "yaxis": {
         "anchor": "x",
         "domain": [
          0,
          1
         ],
         "title": {
          "text": "index"
         }
        }
       }
      }
     },
     "metadata": {},
     "output_type": "display_data"
    }
   ],
   "source": [
    "# Plot coefficients\n",
    "fig = px.bar(feature_importance, orientation = 'h')\n",
    "fig.update_layout(showlegend = False, \n",
    "                  margin = {'l': 120} # to avoid cropping of column names\n",
    "                 )\n",
    "fig.show()"
   ]
  },
  {
   "cell_type": "code",
   "execution_count": null,
   "metadata": {},
   "outputs": [],
   "source": [
    "col_names = list(preprocessor.transformers_[0][1].get_feature_names_out()) + list(preprocessor.transformers_[1][1].get_feature_names_out())\n",
    "coef = model_LR1.coef_\n",
    "imp_feat = pd.DataFrame(columns=col_names, data=coef)\n",
    "display(imp_feat)"
   ]
  },
  {
   "cell_type": "markdown",
   "metadata": {},
   "source": [
    "### 2.4 model_GL1: all kind of features, lasso grid search"
   ]
  },
  {
   "cell_type": "code",
   "execution_count": 63,
   "metadata": {},
   "outputs": [
    {
     "name": "stdout",
     "output_type": "stream",
     "text": [
      "10-fold cross-validation...\n",
      "The cross-validated R2-score is :  0.7905351787153482\n",
      "The standard deviation is :  0.05079415222643162\n"
     ]
    }
   ],
   "source": [
    "# Perform 3-fold cross-validation to evaluate the generalized R2 score obtained with a Ridge model\n",
    "print(\"10-fold cross-validation...\")\n",
    "model_GL1 = Lasso(alpha=0.02)\n",
    "scores = cross_val_score(model_GL1, X_train, Y_train, cv=10)\n",
    "print('The cross-validated R2-score is : ', scores.mean())\n",
    "print('The standard deviation is : ', scores.std())"
   ]
  },
  {
   "cell_type": "code",
   "execution_count": 64,
   "metadata": {},
   "outputs": [
    {
     "name": "stdout",
     "output_type": "stream",
     "text": [
      "Grid search...\n",
      "...Done.\n",
      "Best hyperparameters :  {'alpha': 0.006}\n",
      "Best R2 score :  0.7911441798740781\n"
     ]
    }
   ],
   "source": [
    "# Perform grid search\n",
    "print(\"Grid search...\")\n",
    "model_GL1 = Lasso()\n",
    "# Grid of values to be tested\n",
    "params = {\n",
    "    'alpha': [0.006, 0.007, 0.008, 0.009, 0.01]\n",
    "}\n",
    "gridsearchL = GridSearchCV(model_GL1, param_grid = params, cv = 10)\n",
    "gridsearchL.fit(X_train, Y_train)\n",
    "print(\"...Done.\")\n",
    "print(\"Best hyperparameters : \", gridsearchL.best_params_)\n",
    "print(\"Best R2 score : \", gridsearchL.best_score_)"
   ]
  },
  {
   "cell_type": "code",
   "execution_count": 124,
   "metadata": {},
   "outputs": [
    {
     "name": "stdout",
     "output_type": "stream",
     "text": [
      "R2 score on training set :  0.7919949795805561\n",
      "R2 score on test set :  0.8019605210439866\n",
      "MAPE score on training set :  215336419658327.1\n",
      "MAPE score on test set :  182350727342246.47\n"
     ]
    }
   ],
   "source": [
    "# predicted values\n",
    "Y_train_pred = gridsearchL.predict(X_train)\n",
    "Y_test_predGL1 = gridsearchL.predict(X_test)\n",
    "\n",
    "# Print R^2 scores\n",
    "print(\"R2 score on training set : \", r2_score(Y_train, Y_train_pred))\n",
    "print(\"R2 score on test set : \", r2_score(Y_test, Y_test_predGL1))\n",
    "\n",
    "# Print MAPE score\n",
    "print(\"MAPE score on training set : \", mean_absolute_percentage_error(Y_train, Y_train_pred))\n",
    "print(\"MAPE score on test set : \", mean_absolute_percentage_error(Y_test, Y_test_predGL1))"
   ]
  },
  {
   "cell_type": "code",
   "execution_count": 119,
   "metadata": {},
   "outputs": [
    {
     "data": {
      "text/html": [
       "<div>\n",
       "<style scoped>\n",
       "    .dataframe tbody tr th:only-of-type {\n",
       "        vertical-align: middle;\n",
       "    }\n",
       "\n",
       "    .dataframe tbody tr th {\n",
       "        vertical-align: top;\n",
       "    }\n",
       "\n",
       "    .dataframe thead th {\n",
       "        text-align: right;\n",
       "    }\n",
       "</style>\n",
       "<table border=\"1\" class=\"dataframe\">\n",
       "  <thead>\n",
       "    <tr style=\"text-align: right;\">\n",
       "      <th></th>\n",
       "      <th>mean_fit_time</th>\n",
       "      <th>std_fit_time</th>\n",
       "      <th>mean_score_time</th>\n",
       "      <th>std_score_time</th>\n",
       "      <th>param_alpha</th>\n",
       "      <th>params</th>\n",
       "      <th>split0_test_score</th>\n",
       "      <th>split1_test_score</th>\n",
       "      <th>split2_test_score</th>\n",
       "      <th>split3_test_score</th>\n",
       "      <th>split4_test_score</th>\n",
       "      <th>split5_test_score</th>\n",
       "      <th>split6_test_score</th>\n",
       "      <th>split7_test_score</th>\n",
       "      <th>split8_test_score</th>\n",
       "      <th>split9_test_score</th>\n",
       "      <th>mean_test_score</th>\n",
       "      <th>std_test_score</th>\n",
       "      <th>rank_test_score</th>\n",
       "    </tr>\n",
       "  </thead>\n",
       "  <tbody>\n",
       "    <tr>\n",
       "      <th>0</th>\n",
       "      <td>0.328401</td>\n",
       "      <td>0.112659</td>\n",
       "      <td>0.001900</td>\n",
       "      <td>0.001515</td>\n",
       "      <td>0.006</td>\n",
       "      <td>{'alpha': 0.006}</td>\n",
       "      <td>0.799917</td>\n",
       "      <td>0.733767</td>\n",
       "      <td>0.822871</td>\n",
       "      <td>0.850036</td>\n",
       "      <td>0.798798</td>\n",
       "      <td>0.739033</td>\n",
       "      <td>0.823368</td>\n",
       "      <td>0.827738</td>\n",
       "      <td>0.686040</td>\n",
       "      <td>0.829874</td>\n",
       "      <td>0.791144</td>\n",
       "      <td>0.050540</td>\n",
       "      <td>1</td>\n",
       "    </tr>\n",
       "    <tr>\n",
       "      <th>1</th>\n",
       "      <td>0.383455</td>\n",
       "      <td>0.107886</td>\n",
       "      <td>0.001897</td>\n",
       "      <td>0.000943</td>\n",
       "      <td>0.007</td>\n",
       "      <td>{'alpha': 0.007}</td>\n",
       "      <td>0.799936</td>\n",
       "      <td>0.733655</td>\n",
       "      <td>0.822797</td>\n",
       "      <td>0.849986</td>\n",
       "      <td>0.798737</td>\n",
       "      <td>0.739030</td>\n",
       "      <td>0.823423</td>\n",
       "      <td>0.827649</td>\n",
       "      <td>0.685886</td>\n",
       "      <td>0.829952</td>\n",
       "      <td>0.791105</td>\n",
       "      <td>0.050577</td>\n",
       "      <td>2</td>\n",
       "    </tr>\n",
       "    <tr>\n",
       "      <th>2</th>\n",
       "      <td>0.306952</td>\n",
       "      <td>0.109838</td>\n",
       "      <td>0.002300</td>\n",
       "      <td>0.001791</td>\n",
       "      <td>0.008</td>\n",
       "      <td>{'alpha': 0.008}</td>\n",
       "      <td>0.799943</td>\n",
       "      <td>0.733564</td>\n",
       "      <td>0.822716</td>\n",
       "      <td>0.849935</td>\n",
       "      <td>0.798745</td>\n",
       "      <td>0.739047</td>\n",
       "      <td>0.823476</td>\n",
       "      <td>0.827547</td>\n",
       "      <td>0.685724</td>\n",
       "      <td>0.830023</td>\n",
       "      <td>0.791072</td>\n",
       "      <td>0.050610</td>\n",
       "      <td>3</td>\n",
       "    </tr>\n",
       "    <tr>\n",
       "      <th>3</th>\n",
       "      <td>0.156906</td>\n",
       "      <td>0.041542</td>\n",
       "      <td>0.002200</td>\n",
       "      <td>0.001471</td>\n",
       "      <td>0.009</td>\n",
       "      <td>{'alpha': 0.009}</td>\n",
       "      <td>0.799951</td>\n",
       "      <td>0.733457</td>\n",
       "      <td>0.822637</td>\n",
       "      <td>0.849889</td>\n",
       "      <td>0.798745</td>\n",
       "      <td>0.739063</td>\n",
       "      <td>0.823502</td>\n",
       "      <td>0.827430</td>\n",
       "      <td>0.685595</td>\n",
       "      <td>0.830062</td>\n",
       "      <td>0.791033</td>\n",
       "      <td>0.050633</td>\n",
       "      <td>4</td>\n",
       "    </tr>\n",
       "    <tr>\n",
       "      <th>4</th>\n",
       "      <td>0.159902</td>\n",
       "      <td>0.048001</td>\n",
       "      <td>0.001399</td>\n",
       "      <td>0.000662</td>\n",
       "      <td>0.01</td>\n",
       "      <td>{'alpha': 0.01}</td>\n",
       "      <td>0.799949</td>\n",
       "      <td>0.733335</td>\n",
       "      <td>0.822585</td>\n",
       "      <td>0.849867</td>\n",
       "      <td>0.798728</td>\n",
       "      <td>0.739059</td>\n",
       "      <td>0.823532</td>\n",
       "      <td>0.827321</td>\n",
       "      <td>0.685486</td>\n",
       "      <td>0.830090</td>\n",
       "      <td>0.790995</td>\n",
       "      <td>0.050660</td>\n",
       "      <td>5</td>\n",
       "    </tr>\n",
       "  </tbody>\n",
       "</table>\n",
       "</div>"
      ],
      "text/plain": [
       "   mean_fit_time  std_fit_time  mean_score_time  std_score_time param_alpha  \\\n",
       "0       0.328401      0.112659         0.001900        0.001515       0.006   \n",
       "1       0.383455      0.107886         0.001897        0.000943       0.007   \n",
       "2       0.306952      0.109838         0.002300        0.001791       0.008   \n",
       "3       0.156906      0.041542         0.002200        0.001471       0.009   \n",
       "4       0.159902      0.048001         0.001399        0.000662        0.01   \n",
       "\n",
       "             params  split0_test_score  split1_test_score  split2_test_score  \\\n",
       "0  {'alpha': 0.006}           0.799917           0.733767           0.822871   \n",
       "1  {'alpha': 0.007}           0.799936           0.733655           0.822797   \n",
       "2  {'alpha': 0.008}           0.799943           0.733564           0.822716   \n",
       "3  {'alpha': 0.009}           0.799951           0.733457           0.822637   \n",
       "4   {'alpha': 0.01}           0.799949           0.733335           0.822585   \n",
       "\n",
       "   split3_test_score  split4_test_score  split5_test_score  split6_test_score  \\\n",
       "0           0.850036           0.798798           0.739033           0.823368   \n",
       "1           0.849986           0.798737           0.739030           0.823423   \n",
       "2           0.849935           0.798745           0.739047           0.823476   \n",
       "3           0.849889           0.798745           0.739063           0.823502   \n",
       "4           0.849867           0.798728           0.739059           0.823532   \n",
       "\n",
       "   split7_test_score  split8_test_score  split9_test_score  mean_test_score  \\\n",
       "0           0.827738           0.686040           0.829874         0.791144   \n",
       "1           0.827649           0.685886           0.829952         0.791105   \n",
       "2           0.827547           0.685724           0.830023         0.791072   \n",
       "3           0.827430           0.685595           0.830062         0.791033   \n",
       "4           0.827321           0.685486           0.830090         0.790995   \n",
       "\n",
       "   std_test_score  rank_test_score  \n",
       "0        0.050540                1  \n",
       "1        0.050577                2  \n",
       "2        0.050610                3  \n",
       "3        0.050633                4  \n",
       "4        0.050660                5  "
      ]
     },
     "execution_count": 119,
     "metadata": {},
     "output_type": "execute_result"
    }
   ],
   "source": [
    "pd.DataFrame(gridsearchL.cv_results_)"
   ]
  },
  {
   "cell_type": "markdown",
   "metadata": {},
   "source": [
    "## 3. Decision Trees"
   ]
  },
  {
   "cell_type": "code",
   "execution_count": 66,
   "metadata": {},
   "outputs": [],
   "source": [
    "from sklearn.tree import DecisionTreeRegressor\n",
    "from sklearn.ensemble import RandomForestRegressor\n",
    "from sklearn.metrics import accuracy_score, r2_score"
   ]
  },
  {
   "cell_type": "code",
   "execution_count": 67,
   "metadata": {},
   "outputs": [
    {
     "name": "stdout",
     "output_type": "stream",
     "text": [
      "DecTree instance...\n",
      "Train model...\n",
      "...Done.\n"
     ]
    }
   ],
   "source": [
    "print(\"DecTree instance...\")\n",
    "model_DT1 = DecisionTreeRegressor()\n",
    "\n",
    "print(\"Train model...\")\n",
    "regDT1 = model_DT1.fit(X_train, Y_train)\n",
    "print(\"...Done.\")"
   ]
  },
  {
   "cell_type": "code",
   "execution_count": 123,
   "metadata": {},
   "outputs": [
    {
     "name": "stdout",
     "output_type": "stream",
     "text": [
      "R2 on training set :  1.0\n",
      "R2 on test set :  0.6969006946279901\n"
     ]
    }
   ],
   "source": [
    "# Predictions on training set\n",
    "Y_train_pred = regDT1.predict(X_train)\n",
    "\n",
    "# Predictions on test set\n",
    "Y_test_predDT1 = regDT1.predict(X_test)\n",
    "\n",
    "# Print scores\n",
    "print(\"R2 on training set : \", r2_score(Y_train, Y_train_pred))\n",
    "print(\"R2 on test set : \", r2_score(Y_test, Y_test_predDT1))"
   ]
  },
  {
   "cell_type": "markdown",
   "metadata": {},
   "source": [
    "## 4. Random Forest"
   ]
  },
  {
   "cell_type": "code",
   "execution_count": 69,
   "metadata": {},
   "outputs": [
    {
     "name": "stdout",
     "output_type": "stream",
     "text": [
      "Grid search...\n",
      "...Done.\n",
      "Best hyperparameters :  {'max_depth': 10, 'min_samples_leaf': 5, 'min_samples_split': 4, 'n_estimators': 80}\n",
      "Best validation accuracy :  0.893298112610059\n"
     ]
    }
   ],
   "source": [
    "# Perform grid search\n",
    "print(\"Grid search...\")\n",
    "model_RF1 = RandomForestRegressor()\n",
    "\n",
    "# Grid of values to be tested\n",
    "params = {\n",
    "    'max_depth': [2, 4, 6, 8, 10],\n",
    "    'min_samples_leaf': [1, 2, 5],\n",
    "    'min_samples_split': [2, 4, 8],\n",
    "    'n_estimators': [10, 20, 40, 60, 80, 100]\n",
    "}\n",
    "gridsearch = GridSearchCV(model_RF1, param_grid = params, cv = 10)\n",
    "gridsearch.fit(X_train, Y_train)\n",
    "print(\"...Done.\")\n",
    "print(\"Best hyperparameters : \", gridsearch.best_params_)\n",
    "print(\"Best validation accuracy : \", gridsearch.best_score_)"
   ]
  },
  {
   "cell_type": "code",
   "execution_count": 126,
   "metadata": {},
   "outputs": [
    {
     "name": "stdout",
     "output_type": "stream",
     "text": [
      "Predictions on training set...\n",
      "...Done.\n",
      "[28.9627703  10.62169365 32.22183483 ... 42.71939694  8.14264217\n",
      " 42.92310317]\n",
      "\n",
      "Predictions on test set...\n",
      "...Done.\n",
      "[31.59011009 56.05387011 48.66681629 ... 35.98644694 39.38023029\n",
      " 30.69811133]\n",
      "\n"
     ]
    }
   ],
   "source": [
    "# Predictions on training set\n",
    "print(\"Predictions on training set...\")\n",
    "Y_train_pred = gridsearch.predict(X_train)\n",
    "print(\"...Done.\")\n",
    "print(Y_train_pred)\n",
    "print()\n",
    "\n",
    "# Predictions on test set\n",
    "print(\"Predictions on test set...\")\n",
    "Y_test_predRF1 = gridsearch.predict(X_test)\n",
    "print(\"...Done.\")\n",
    "print(Y_test_predRF1)\n",
    "print()"
   ]
  },
  {
   "cell_type": "code",
   "execution_count": 127,
   "metadata": {},
   "outputs": [
    {
     "name": "stdout",
     "output_type": "stream",
     "text": [
      "R2 on training set :  0.9380355833840035\n",
      "R2 on test set :  0.9218914844512061\n",
      "\n"
     ]
    }
   ],
   "source": [
    "# Print scores\n",
    "print(\"R2 on training set : \", r2_score(Y_train, Y_train_pred))\n",
    "print(\"R2 on test set : \", r2_score(Y_test, Y_test_predRF1))\n",
    "print()"
   ]
  },
  {
   "cell_type": "markdown",
   "metadata": {},
   "source": [
    "## 5. HistGradientBoost"
   ]
  },
  {
   "cell_type": "code",
   "execution_count": 72,
   "metadata": {},
   "outputs": [],
   "source": [
    "from sklearn.ensemble import HistGradientBoostingRegressor"
   ]
  },
  {
   "cell_type": "markdown",
   "metadata": {},
   "source": [
    "### 5.1 premier HGB regressor"
   ]
  },
  {
   "cell_type": "code",
   "execution_count": 73,
   "metadata": {},
   "outputs": [],
   "source": [
    "# model with default parameters\n",
    "## loss = squared_error\n",
    "## learning_rate = 0.1\n",
    "## max_iter = 100\n",
    "## max_leaf_nodes = 31\n",
    "## max_depth = None\n",
    "## min_samples_leaf = 20\n",
    "## l2_regularization = 0\n",
    "## max_bins = 255\n",
    "\n",
    "model_HGB1 = HistGradientBoostingRegressor()"
   ]
  },
  {
   "cell_type": "code",
   "execution_count": 128,
   "metadata": {},
   "outputs": [
    {
     "name": "stdout",
     "output_type": "stream",
     "text": [
      "R2 on training set :  0.9560861427354251\n",
      "R2 on test set :  0.9306825511756289\n",
      "\n"
     ]
    }
   ],
   "source": [
    "# model training\n",
    "model_HGB1.fit(X_train, Y_train)\n",
    "\n",
    "# Predictions on training set\n",
    "Y_train_pred = model_HGB1.predict(X_train)\n",
    "\n",
    "# Predictions on test set\n",
    "Y_test_predHGB1 = model_HGB1.predict(X_test)\n",
    "\n",
    "# Print scores\n",
    "print(\"R2 on training set : \", r2_score(Y_train, Y_train_pred))\n",
    "print(\"R2 on test set : \", r2_score(Y_test, Y_test_predHGB1))\n",
    "print()"
   ]
  },
  {
   "cell_type": "code",
   "execution_count": 75,
   "metadata": {},
   "outputs": [],
   "source": [
    "## loss = squared_error\n",
    "## learning_rate = 0.1\n",
    "## max_iter = 100 # max number of trees\n",
    "## max_leaf_nodes = 31\n",
    "## max_depth = None\n",
    "## min_samples_leaf = 20\n",
    "## l2_regularization = 0\n",
    "## max_bins = 255\n",
    "\n",
    "#model_HGB2 = HistGradientBoostingRegressor(learning_rate = 0.04, min_samples_leaf = 10)\n",
    "model_HGB2 = HistGradientBoostingRegressor(learning_rate = 0.04, max_iter = 200, min_samples_leaf = 10)"
   ]
  },
  {
   "cell_type": "code",
   "execution_count": 135,
   "metadata": {},
   "outputs": [
    {
     "name": "stdout",
     "output_type": "stream",
     "text": [
      "R2 on training set :  0.9662321746702298\n",
      "R2 on test set :  0.938130198533441\n",
      "\n"
     ]
    }
   ],
   "source": [
    "# model training\n",
    "model_HGB2.fit(X_train, Y_train)"
   ]
  },
  {
   "cell_type": "code",
   "execution_count": null,
   "metadata": {},
   "outputs": [],
   "source": [
    "# Predictions on training set\n",
    "Y_train_pred = model_HGB2.predict(X_train)\n",
    "\n",
    "# Predictions on test set\n",
    "Y_test_predHGB2 = model_HGB2.predict(X_test)\n",
    "\n",
    "# Print scores\n",
    "print(\"R2 on training set : \", r2_score(Y_train, Y_train_pred))\n",
    "print(\"R2 on test set : \", r2_score(Y_test, Y_test_predHGB2))\n",
    "print()"
   ]
  },
  {
   "cell_type": "code",
   "execution_count": 120,
   "metadata": {},
   "outputs": [
    {
     "ename": "AttributeError",
     "evalue": "'HistGradientBoostingRegressor' object has no attribute 'feature_names_in'",
     "output_type": "error",
     "traceback": [
      "\u001b[1;31m---------------------------------------------------------------------------\u001b[0m",
      "\u001b[1;31mAttributeError\u001b[0m                            Traceback (most recent call last)",
      "Cell \u001b[1;32mIn [120], line 1\u001b[0m\n\u001b[1;32m----> 1\u001b[0m model_HGB2\u001b[39m.\u001b[39;49mfeature_names_in\n",
      "\u001b[1;31mAttributeError\u001b[0m: 'HistGradientBoostingRegressor' object has no attribute 'feature_names_in'"
     ]
    }
   ],
   "source": [
    "model_HGB2.feature_names_in"
   ]
  },
  {
   "cell_type": "markdown",
   "metadata": {},
   "source": [
    "### 5.2 grid search of HGB regressor"
   ]
  },
  {
   "cell_type": "code",
   "execution_count": 77,
   "metadata": {},
   "outputs": [
    {
     "name": "stdout",
     "output_type": "stream",
     "text": [
      "Grid search...\n",
      "...Done.\n",
      "Best hyperparameters :  {'learning_rate': 0.05, 'max_iter': 400, 'min_samples_leaf': 10}\n",
      "Best validation accuracy :  0.9037744305471087\n"
     ]
    }
   ],
   "source": [
    "# Perform grid search\n",
    "print(\"Grid search...\")\n",
    "model_HGB3 = HistGradientBoostingRegressor()\n",
    "# Grid of values to be tested\n",
    "params = {\n",
    "    'min_samples_leaf': [5, 7, 10],\n",
    "    'learning_rate': [0.03, 0.04, 0.05, 0.07, 0.1],\n",
    "    'max_iter': [200, 400, 500]\n",
    "}\n",
    "gridsearchHGB3 = GridSearchCV(model_HGB3, param_grid = params, cv = 10, n_jobs=5)\n",
    "gridsearchHGB3.fit(X_train, Y_train)\n",
    "print(\"...Done.\")\n",
    "print(\"Best hyperparameters : \", gridsearchHGB3.best_params_)\n",
    "print(\"Best validation accuracy : \", gridsearchHGB3.best_score_)"
   ]
  },
  {
   "cell_type": "code",
   "execution_count": 129,
   "metadata": {},
   "outputs": [
    {
     "name": "stdout",
     "output_type": "stream",
     "text": [
      "R2 on training set :  0.9836798410295321\n",
      "R2 on test set :  0.9436286336805934\n",
      "\n"
     ]
    }
   ],
   "source": [
    "# Predictions on training set\n",
    "Y_train_pred = gridsearchHGB3.predict(X_train)\n",
    "\n",
    "# Predictions on test set\n",
    "Y_test_predHGB3 = gridsearchHGB3.predict(X_test)\n",
    "\n",
    "# Print scores\n",
    "print(\"R2 on training set : \", r2_score(Y_train, Y_train_pred))\n",
    "print(\"R2 on test set : \", r2_score(Y_test, Y_test_predHGB3))\n",
    "print()"
   ]
  },
  {
   "cell_type": "markdown",
   "metadata": {},
   "source": [
    "### 5.4 Decision Tree from gird search HGB regressor"
   ]
  },
  {
   "cell_type": "code",
   "execution_count": 100,
   "metadata": {},
   "outputs": [
    {
     "name": "stdout",
     "output_type": "stream",
     "text": [
      "DecTree instance...\n",
      "Train model...\n",
      "...Done.\n"
     ]
    }
   ],
   "source": [
    "print(\"DecTree instance...\")\n",
    "model_DT2 = DecisionTreeRegressor(min_samples_leaf = 10, max_depth = 10)\n",
    "\n",
    "print(\"Train model...\")\n",
    "regDT2 = model_DT2.fit(X_train, Y_train)\n",
    "print(\"...Done.\")"
   ]
  },
  {
   "cell_type": "code",
   "execution_count": 130,
   "metadata": {},
   "outputs": [
    {
     "name": "stdout",
     "output_type": "stream",
     "text": [
      "R2 on training set :  0.9115040898930924\n",
      "R2 on test set :  0.8799852401029542\n",
      "\n"
     ]
    }
   ],
   "source": [
    "# Predictions on training set\n",
    "Y_train_pred = regDT2.predict(X_train)\n",
    "\n",
    "# Predictions on test set\n",
    "Y_test_predDT2 = regDT2.predict(X_test)\n",
    "\n",
    "# Print scores\n",
    "print(\"R2 on training set : \", r2_score(Y_train, Y_train_pred))\n",
    "print(\"R2 on test set : \", r2_score(Y_test, Y_test_predDT2))\n",
    "print()"
   ]
  },
  {
   "cell_type": "code",
   "execution_count": 102,
   "metadata": {},
   "outputs": [
    {
     "name": "stdout",
     "output_type": "stream",
     "text": [
      "10-fold cross-validation...\n",
      "The cross-validated R2-score is :  0.8412207399973095\n",
      "The standard deviation is :  0.052721869999939594\n"
     ]
    }
   ],
   "source": [
    "## cross validation\n",
    "print(\"10-fold cross-validation...\")\n",
    "scores = cross_val_score(regDT2, X_train, Y_train, cv=10)\n",
    "print('The cross-validated R2-score is : ', scores.mean())\n",
    "print('The standard deviation is : ', scores.std())"
   ]
  },
  {
   "cell_type": "markdown",
   "metadata": {},
   "source": [
    "## 7. Voting"
   ]
  },
  {
   "cell_type": "code",
   "execution_count": 103,
   "metadata": {},
   "outputs": [],
   "source": [
    "from sklearn.ensemble import VotingRegressor"
   ]
  },
  {
   "cell_type": "code",
   "execution_count": 105,
   "metadata": {},
   "outputs": [
    {
     "name": "stdout",
     "output_type": "stream",
     "text": [
      "Accuracy on training set :  0.9367502377239701\n",
      "Accuracy on test set :  0.9167032196953241\n"
     ]
    }
   ],
   "source": [
    "# Voting\n",
    "voting = VotingRegressor(estimators=[(\"linear\", model_LR1), (\"lasso\", gridsearchL), (\"randomforest\", gridsearch),\n",
    "                                      (\"HGB2\", model_HGB2), (\"HGB3_gridsearch\", gridsearchHGB3), (\"tree_HGB\", model_DT2)], n_jobs = 4)\n",
    "voting.fit(X_train, Y_train)\n",
    "print(\"Accuracy on training set : \", voting.score(X_train, Y_train))\n",
    "print(\"Accuracy on test set : \", voting.score(X_test, Y_test))"
   ]
  },
  {
   "cell_type": "code",
   "execution_count": 131,
   "metadata": {},
   "outputs": [
    {
     "name": "stdout",
     "output_type": "stream",
     "text": [
      "R2 on training set :  0.9367502377239701\n",
      "R2 on test set :  0.9167032196953241\n",
      "\n"
     ]
    }
   ],
   "source": [
    "# Predictions on training set\n",
    "Y_train_pred = voting.predict(X_train)\n",
    "\n",
    "# Predictions on test set\n",
    "Y_test_predV = voting.predict(X_test)\n",
    "\n",
    "# Print scores\n",
    "print(\"R2 on training set : \", r2_score(Y_train, Y_train_pred))\n",
    "print(\"R2 on test set : \", r2_score(Y_test, Y_test_predV))\n",
    "print()"
   ]
  },
  {
   "cell_type": "markdown",
   "metadata": {},
   "source": [
    "## 8. Saving"
   ]
  },
  {
   "cell_type": "code",
   "execution_count": 106,
   "metadata": {},
   "outputs": [
    {
     "data": {
      "text/plain": [
       "['ML_desc/SurfTer_voting.joblib']"
      ]
     },
     "execution_count": 106,
     "metadata": {},
     "output_type": "execute_result"
    }
   ],
   "source": [
    "# saving\n",
    "from joblib import dump, load\n",
    "\n",
    "dump(gridsearch, 'ML_desc/SurfTer_randomforest.joblib')\n",
    "dump(model_HGB2, 'ML_desc/SurfTer_HGB.joblib') \n",
    "dump(gridsearchHGB3, 'ML_desc/SurfTer_HGB_girdsearch.joblib')\n",
    "dump(voting, 'ML_desc/SurfTer_voting.joblib') "
   ]
  },
  {
   "cell_type": "markdown",
   "metadata": {},
   "source": [
    "## 9. Viz results"
   ]
  },
  {
   "cell_type": "code",
   "execution_count": 153,
   "metadata": {},
   "outputs": [
    {
     "data": {
      "text/html": [
       "<div>\n",
       "<style scoped>\n",
       "    .dataframe tbody tr th:only-of-type {\n",
       "        vertical-align: middle;\n",
       "    }\n",
       "\n",
       "    .dataframe tbody tr th {\n",
       "        vertical-align: top;\n",
       "    }\n",
       "\n",
       "    .dataframe thead th {\n",
       "        text-align: right;\n",
       "    }\n",
       "</style>\n",
       "<table border=\"1\" class=\"dataframe\">\n",
       "  <thead>\n",
       "    <tr style=\"text-align: right;\">\n",
       "      <th></th>\n",
       "      <th>model</th>\n",
       "      <th>r2_score</th>\n",
       "      <th>model_name</th>\n",
       "    </tr>\n",
       "  </thead>\n",
       "  <tbody>\n",
       "    <tr>\n",
       "      <th>0</th>\n",
       "      <td>model_LR1</td>\n",
       "      <td>0.801247</td>\n",
       "      <td>Linear Regression</td>\n",
       "    </tr>\n",
       "  </tbody>\n",
       "</table>\n",
       "</div>"
      ],
      "text/plain": [
       "       model  r2_score         model_name\n",
       "0  model_LR1  0.801247  Linear Regression"
      ]
     },
     "execution_count": 153,
     "metadata": {},
     "output_type": "execute_result"
    }
   ],
   "source": [
    "score_model = [[\"model_LR1\", r2_score(Y_test, Y_test_predLF), \"Linear Regression\"]]\n",
    "score_model = pd.DataFrame(columns=[\"model\", \"r2_score\", \"model_name\"], data=score_model)\n",
    "score_model"
   ]
  },
  {
   "cell_type": "code",
   "execution_count": 154,
   "metadata": {},
   "outputs": [
    {
     "name": "stderr",
     "output_type": "stream",
     "text": [
      "C:\\Users\\noyer\\AppData\\Local\\Temp\\ipykernel_65060\\1984673769.py:10: FutureWarning:\n",
      "\n",
      "The frame.append method is deprecated and will be removed from pandas in a future version. Use pandas.concat instead.\n",
      "\n"
     ]
    },
    {
     "data": {
      "text/html": [
       "<div>\n",
       "<style scoped>\n",
       "    .dataframe tbody tr th:only-of-type {\n",
       "        vertical-align: middle;\n",
       "    }\n",
       "\n",
       "    .dataframe tbody tr th {\n",
       "        vertical-align: top;\n",
       "    }\n",
       "\n",
       "    .dataframe thead th {\n",
       "        text-align: right;\n",
       "    }\n",
       "</style>\n",
       "<table border=\"1\" class=\"dataframe\">\n",
       "  <thead>\n",
       "    <tr style=\"text-align: right;\">\n",
       "      <th></th>\n",
       "      <th>model</th>\n",
       "      <th>r2_score</th>\n",
       "      <th>model_name</th>\n",
       "    </tr>\n",
       "  </thead>\n",
       "  <tbody>\n",
       "    <tr>\n",
       "      <th>0</th>\n",
       "      <td>model_LR1</td>\n",
       "      <td>0.801247</td>\n",
       "      <td>Linear Regression</td>\n",
       "    </tr>\n",
       "    <tr>\n",
       "      <th>1</th>\n",
       "      <td>gridsearchL</td>\n",
       "      <td>0.801961</td>\n",
       "      <td>Lasso</td>\n",
       "    </tr>\n",
       "    <tr>\n",
       "      <th>2</th>\n",
       "      <td>model_DT1</td>\n",
       "      <td>0.696901</td>\n",
       "      <td>Decision Tree</td>\n",
       "    </tr>\n",
       "    <tr>\n",
       "      <th>3</th>\n",
       "      <td>gridsearch</td>\n",
       "      <td>0.921891</td>\n",
       "      <td>Random Forest</td>\n",
       "    </tr>\n",
       "    <tr>\n",
       "      <th>4</th>\n",
       "      <td>model_HGB1</td>\n",
       "      <td>0.930683</td>\n",
       "      <td>HGB Regression default</td>\n",
       "    </tr>\n",
       "    <tr>\n",
       "      <th>5</th>\n",
       "      <td>model_HGB2</td>\n",
       "      <td>0.938130</td>\n",
       "      <td>HGB Regression parametrized</td>\n",
       "    </tr>\n",
       "    <tr>\n",
       "      <th>6</th>\n",
       "      <td>gridsearchHGB3</td>\n",
       "      <td>0.943629</td>\n",
       "      <td>HGB Regression GridSearch</td>\n",
       "    </tr>\n",
       "    <tr>\n",
       "      <th>7</th>\n",
       "      <td>model_DT2</td>\n",
       "      <td>0.879985</td>\n",
       "      <td>Decision Tree from HGB Regression GS</td>\n",
       "    </tr>\n",
       "    <tr>\n",
       "      <th>8</th>\n",
       "      <td>voting</td>\n",
       "      <td>0.916703</td>\n",
       "      <td>Voting</td>\n",
       "    </tr>\n",
       "  </tbody>\n",
       "</table>\n",
       "</div>"
      ],
      "text/plain": [
       "            model  r2_score                            model_name\n",
       "0       model_LR1  0.801247                     Linear Regression\n",
       "1     gridsearchL  0.801961                                 Lasso\n",
       "2       model_DT1  0.696901                         Decision Tree\n",
       "3      gridsearch  0.921891                         Random Forest\n",
       "4      model_HGB1  0.930683                HGB Regression default\n",
       "5      model_HGB2  0.938130           HGB Regression parametrized\n",
       "6  gridsearchHGB3  0.943629             HGB Regression GridSearch\n",
       "7       model_DT2  0.879985  Decision Tree from HGB Regression GS\n",
       "8          voting  0.916703                                Voting"
      ]
     },
     "execution_count": 154,
     "metadata": {},
     "output_type": "execute_result"
    }
   ],
   "source": [
    "score_add = [{\"model\": \"gridsearchL\", \"r2_score\": r2_score(Y_test, Y_test_predGL1), \"model_name\": \"Lasso\"},\n",
    "            {\"model\": \"model_DT1\", \"r2_score\": r2_score(Y_test, Y_test_predDT1), \"model_name\": \"Decision Tree\"},\n",
    "            {\"model\": \"gridsearch\", \"r2_score\": r2_score(Y_test, Y_test_predRF1), \"model_name\": \"Random Forest\"},\n",
    "            {\"model\": \"model_HGB1\", \"r2_score\": r2_score(Y_test, Y_test_predHGB1), \"model_name\": \"HGB Regression default\"},\n",
    "            {\"model\": \"model_HGB2\", \"r2_score\": r2_score(Y_test, Y_test_predHGB2), \"model_name\": \"HGB Regression parametrized\"},\n",
    "            {\"model\": \"gridsearchHGB3\", \"r2_score\": r2_score(Y_test, Y_test_predHGB3), \"model_name\": \"HGB Regression GridSearch\"},\n",
    "            {\"model\": \"model_DT2\", \"r2_score\": r2_score(Y_test, Y_test_predDT2), \"model_name\": \"Decision Tree from HGB Regression GS\"},\n",
    "            {\"model\": \"voting\", \"r2_score\": r2_score(Y_test, Y_test_predV), \"model_name\": \"Voting\"}]\n",
    "\n",
    "score_model = score_model.append(score_add, ignore_index=True)\n",
    "score_model\n"
   ]
  },
  {
   "cell_type": "code",
   "execution_count": 147,
   "metadata": {},
   "outputs": [],
   "source": [
    "score_model.to_csv('score_MLdescr_SurfTer.csv')"
   ]
  },
  {
   "cell_type": "code",
   "execution_count": 155,
   "metadata": {},
   "outputs": [],
   "source": [
    "score_model[\"r2_round\"] = round(score_model[\"r2_score\"], 2)\n",
    "score_model[\"simplified_name\"] = [\"LR\", \"Lasso\", \"DT\", \"RF\", \"HGBr def\", \"HGBr par\", \"HGBr GS\", \"DT HGBr\", \"Voting\"]"
   ]
  },
  {
   "cell_type": "code",
   "execution_count": 158,
   "metadata": {},
   "outputs": [
    {
     "data": {
      "application/vnd.plotly.v1+json": {
       "config": {
        "plotlyServerURL": "https://plot.ly"
       },
       "data": [
        {
         "alignmentgroup": "True",
         "customdata": [
          [
           0.8012471261059073
          ],
          [
           0.8019605210439866
          ],
          [
           0.6969006946279901
          ],
          [
           0.9218914844512061
          ],
          [
           0.9306825511756289
          ],
          [
           0.938130198533441
          ],
          [
           0.9436286336805934
          ],
          [
           0.8799852401029542
          ],
          [
           0.9167032196953241
          ]
         ],
         "hovertemplate": "model tested=%{x}<br>determination coefficient=%{y}<br>r2_score=%{marker.color}<extra></extra>",
         "legendgroup": "",
         "marker": {
          "color": [
           0.8012471261059073,
           0.8019605210439866,
           0.6969006946279901,
           0.9218914844512061,
           0.9306825511756289,
           0.938130198533441,
           0.9436286336805934,
           0.8799852401029542,
           0.9167032196953241
          ],
          "coloraxis": "coloraxis",
          "pattern": {
           "shape": ""
          }
         },
         "name": "",
         "offsetgroup": "",
         "orientation": "v",
         "showlegend": false,
         "textposition": "auto",
         "texttemplate": "%{y}",
         "type": "bar",
         "x": [
          "LR",
          "Lasso",
          "DT",
          "RF",
          "HGBr def",
          "HGBr par",
          "HGBr GS",
          "DT HGBr",
          "Voting"
         ],
         "xaxis": "x",
         "y": [
          0.8,
          0.8,
          0.7,
          0.92,
          0.93,
          0.94,
          0.94,
          0.88,
          0.92
         ],
         "yaxis": "y"
        }
       ],
       "layout": {
        "barmode": "relative",
        "coloraxis": {
         "colorbar": {
          "title": {
           "text": "r2_score"
          }
         },
         "colorscale": [
          [
           0,
           "rgb(158,1,66)"
          ],
          [
           0.1,
           "rgb(213,62,79)"
          ],
          [
           0.2,
           "rgb(244,109,67)"
          ],
          [
           0.3,
           "rgb(253,174,97)"
          ],
          [
           0.4,
           "rgb(254,224,139)"
          ],
          [
           0.5,
           "rgb(255,255,191)"
          ],
          [
           0.6,
           "rgb(230,245,152)"
          ],
          [
           0.7,
           "rgb(171,221,164)"
          ],
          [
           0.8,
           "rgb(102,194,165)"
          ],
          [
           0.9,
           "rgb(50,136,189)"
          ],
          [
           1,
           "rgb(94,79,162)"
          ]
         ],
         "showscale": false
        },
        "legend": {
         "tracegroupgap": 0
        },
        "margin": {
         "t": 60
        },
        "showlegend": false,
        "template": {
         "data": {
          "bar": [
           {
            "error_x": {
             "color": "#2a3f5f"
            },
            "error_y": {
             "color": "#2a3f5f"
            },
            "marker": {
             "line": {
              "color": "#E5ECF6",
              "width": 0.5
             },
             "pattern": {
              "fillmode": "overlay",
              "size": 10,
              "solidity": 0.2
             }
            },
            "type": "bar"
           }
          ],
          "barpolar": [
           {
            "marker": {
             "line": {
              "color": "#E5ECF6",
              "width": 0.5
             },
             "pattern": {
              "fillmode": "overlay",
              "size": 10,
              "solidity": 0.2
             }
            },
            "type": "barpolar"
           }
          ],
          "carpet": [
           {
            "aaxis": {
             "endlinecolor": "#2a3f5f",
             "gridcolor": "white",
             "linecolor": "white",
             "minorgridcolor": "white",
             "startlinecolor": "#2a3f5f"
            },
            "baxis": {
             "endlinecolor": "#2a3f5f",
             "gridcolor": "white",
             "linecolor": "white",
             "minorgridcolor": "white",
             "startlinecolor": "#2a3f5f"
            },
            "type": "carpet"
           }
          ],
          "choropleth": [
           {
            "colorbar": {
             "outlinewidth": 0,
             "ticks": ""
            },
            "type": "choropleth"
           }
          ],
          "contour": [
           {
            "colorbar": {
             "outlinewidth": 0,
             "ticks": ""
            },
            "colorscale": [
             [
              0,
              "#0d0887"
             ],
             [
              0.1111111111111111,
              "#46039f"
             ],
             [
              0.2222222222222222,
              "#7201a8"
             ],
             [
              0.3333333333333333,
              "#9c179e"
             ],
             [
              0.4444444444444444,
              "#bd3786"
             ],
             [
              0.5555555555555556,
              "#d8576b"
             ],
             [
              0.6666666666666666,
              "#ed7953"
             ],
             [
              0.7777777777777778,
              "#fb9f3a"
             ],
             [
              0.8888888888888888,
              "#fdca26"
             ],
             [
              1,
              "#f0f921"
             ]
            ],
            "type": "contour"
           }
          ],
          "contourcarpet": [
           {
            "colorbar": {
             "outlinewidth": 0,
             "ticks": ""
            },
            "type": "contourcarpet"
           }
          ],
          "heatmap": [
           {
            "colorbar": {
             "outlinewidth": 0,
             "ticks": ""
            },
            "colorscale": [
             [
              0,
              "#0d0887"
             ],
             [
              0.1111111111111111,
              "#46039f"
             ],
             [
              0.2222222222222222,
              "#7201a8"
             ],
             [
              0.3333333333333333,
              "#9c179e"
             ],
             [
              0.4444444444444444,
              "#bd3786"
             ],
             [
              0.5555555555555556,
              "#d8576b"
             ],
             [
              0.6666666666666666,
              "#ed7953"
             ],
             [
              0.7777777777777778,
              "#fb9f3a"
             ],
             [
              0.8888888888888888,
              "#fdca26"
             ],
             [
              1,
              "#f0f921"
             ]
            ],
            "type": "heatmap"
           }
          ],
          "heatmapgl": [
           {
            "colorbar": {
             "outlinewidth": 0,
             "ticks": ""
            },
            "colorscale": [
             [
              0,
              "#0d0887"
             ],
             [
              0.1111111111111111,
              "#46039f"
             ],
             [
              0.2222222222222222,
              "#7201a8"
             ],
             [
              0.3333333333333333,
              "#9c179e"
             ],
             [
              0.4444444444444444,
              "#bd3786"
             ],
             [
              0.5555555555555556,
              "#d8576b"
             ],
             [
              0.6666666666666666,
              "#ed7953"
             ],
             [
              0.7777777777777778,
              "#fb9f3a"
             ],
             [
              0.8888888888888888,
              "#fdca26"
             ],
             [
              1,
              "#f0f921"
             ]
            ],
            "type": "heatmapgl"
           }
          ],
          "histogram": [
           {
            "marker": {
             "pattern": {
              "fillmode": "overlay",
              "size": 10,
              "solidity": 0.2
             }
            },
            "type": "histogram"
           }
          ],
          "histogram2d": [
           {
            "colorbar": {
             "outlinewidth": 0,
             "ticks": ""
            },
            "colorscale": [
             [
              0,
              "#0d0887"
             ],
             [
              0.1111111111111111,
              "#46039f"
             ],
             [
              0.2222222222222222,
              "#7201a8"
             ],
             [
              0.3333333333333333,
              "#9c179e"
             ],
             [
              0.4444444444444444,
              "#bd3786"
             ],
             [
              0.5555555555555556,
              "#d8576b"
             ],
             [
              0.6666666666666666,
              "#ed7953"
             ],
             [
              0.7777777777777778,
              "#fb9f3a"
             ],
             [
              0.8888888888888888,
              "#fdca26"
             ],
             [
              1,
              "#f0f921"
             ]
            ],
            "type": "histogram2d"
           }
          ],
          "histogram2dcontour": [
           {
            "colorbar": {
             "outlinewidth": 0,
             "ticks": ""
            },
            "colorscale": [
             [
              0,
              "#0d0887"
             ],
             [
              0.1111111111111111,
              "#46039f"
             ],
             [
              0.2222222222222222,
              "#7201a8"
             ],
             [
              0.3333333333333333,
              "#9c179e"
             ],
             [
              0.4444444444444444,
              "#bd3786"
             ],
             [
              0.5555555555555556,
              "#d8576b"
             ],
             [
              0.6666666666666666,
              "#ed7953"
             ],
             [
              0.7777777777777778,
              "#fb9f3a"
             ],
             [
              0.8888888888888888,
              "#fdca26"
             ],
             [
              1,
              "#f0f921"
             ]
            ],
            "type": "histogram2dcontour"
           }
          ],
          "mesh3d": [
           {
            "colorbar": {
             "outlinewidth": 0,
             "ticks": ""
            },
            "type": "mesh3d"
           }
          ],
          "parcoords": [
           {
            "line": {
             "colorbar": {
              "outlinewidth": 0,
              "ticks": ""
             }
            },
            "type": "parcoords"
           }
          ],
          "pie": [
           {
            "automargin": true,
            "type": "pie"
           }
          ],
          "scatter": [
           {
            "fillpattern": {
             "fillmode": "overlay",
             "size": 10,
             "solidity": 0.2
            },
            "type": "scatter"
           }
          ],
          "scatter3d": [
           {
            "line": {
             "colorbar": {
              "outlinewidth": 0,
              "ticks": ""
             }
            },
            "marker": {
             "colorbar": {
              "outlinewidth": 0,
              "ticks": ""
             }
            },
            "type": "scatter3d"
           }
          ],
          "scattercarpet": [
           {
            "marker": {
             "colorbar": {
              "outlinewidth": 0,
              "ticks": ""
             }
            },
            "type": "scattercarpet"
           }
          ],
          "scattergeo": [
           {
            "marker": {
             "colorbar": {
              "outlinewidth": 0,
              "ticks": ""
             }
            },
            "type": "scattergeo"
           }
          ],
          "scattergl": [
           {
            "marker": {
             "colorbar": {
              "outlinewidth": 0,
              "ticks": ""
             }
            },
            "type": "scattergl"
           }
          ],
          "scattermapbox": [
           {
            "marker": {
             "colorbar": {
              "outlinewidth": 0,
              "ticks": ""
             }
            },
            "type": "scattermapbox"
           }
          ],
          "scatterpolar": [
           {
            "marker": {
             "colorbar": {
              "outlinewidth": 0,
              "ticks": ""
             }
            },
            "type": "scatterpolar"
           }
          ],
          "scatterpolargl": [
           {
            "marker": {
             "colorbar": {
              "outlinewidth": 0,
              "ticks": ""
             }
            },
            "type": "scatterpolargl"
           }
          ],
          "scatterternary": [
           {
            "marker": {
             "colorbar": {
              "outlinewidth": 0,
              "ticks": ""
             }
            },
            "type": "scatterternary"
           }
          ],
          "surface": [
           {
            "colorbar": {
             "outlinewidth": 0,
             "ticks": ""
            },
            "colorscale": [
             [
              0,
              "#0d0887"
             ],
             [
              0.1111111111111111,
              "#46039f"
             ],
             [
              0.2222222222222222,
              "#7201a8"
             ],
             [
              0.3333333333333333,
              "#9c179e"
             ],
             [
              0.4444444444444444,
              "#bd3786"
             ],
             [
              0.5555555555555556,
              "#d8576b"
             ],
             [
              0.6666666666666666,
              "#ed7953"
             ],
             [
              0.7777777777777778,
              "#fb9f3a"
             ],
             [
              0.8888888888888888,
              "#fdca26"
             ],
             [
              1,
              "#f0f921"
             ]
            ],
            "type": "surface"
           }
          ],
          "table": [
           {
            "cells": {
             "fill": {
              "color": "#EBF0F8"
             },
             "line": {
              "color": "white"
             }
            },
            "header": {
             "fill": {
              "color": "#C8D4E3"
             },
             "line": {
              "color": "white"
             }
            },
            "type": "table"
           }
          ]
         },
         "layout": {
          "annotationdefaults": {
           "arrowcolor": "#2a3f5f",
           "arrowhead": 0,
           "arrowwidth": 1
          },
          "autotypenumbers": "strict",
          "coloraxis": {
           "colorbar": {
            "outlinewidth": 0,
            "ticks": ""
           }
          },
          "colorscale": {
           "diverging": [
            [
             0,
             "#8e0152"
            ],
            [
             0.1,
             "#c51b7d"
            ],
            [
             0.2,
             "#de77ae"
            ],
            [
             0.3,
             "#f1b6da"
            ],
            [
             0.4,
             "#fde0ef"
            ],
            [
             0.5,
             "#f7f7f7"
            ],
            [
             0.6,
             "#e6f5d0"
            ],
            [
             0.7,
             "#b8e186"
            ],
            [
             0.8,
             "#7fbc41"
            ],
            [
             0.9,
             "#4d9221"
            ],
            [
             1,
             "#276419"
            ]
           ],
           "sequential": [
            [
             0,
             "#0d0887"
            ],
            [
             0.1111111111111111,
             "#46039f"
            ],
            [
             0.2222222222222222,
             "#7201a8"
            ],
            [
             0.3333333333333333,
             "#9c179e"
            ],
            [
             0.4444444444444444,
             "#bd3786"
            ],
            [
             0.5555555555555556,
             "#d8576b"
            ],
            [
             0.6666666666666666,
             "#ed7953"
            ],
            [
             0.7777777777777778,
             "#fb9f3a"
            ],
            [
             0.8888888888888888,
             "#fdca26"
            ],
            [
             1,
             "#f0f921"
            ]
           ],
           "sequentialminus": [
            [
             0,
             "#0d0887"
            ],
            [
             0.1111111111111111,
             "#46039f"
            ],
            [
             0.2222222222222222,
             "#7201a8"
            ],
            [
             0.3333333333333333,
             "#9c179e"
            ],
            [
             0.4444444444444444,
             "#bd3786"
            ],
            [
             0.5555555555555556,
             "#d8576b"
            ],
            [
             0.6666666666666666,
             "#ed7953"
            ],
            [
             0.7777777777777778,
             "#fb9f3a"
            ],
            [
             0.8888888888888888,
             "#fdca26"
            ],
            [
             1,
             "#f0f921"
            ]
           ]
          },
          "colorway": [
           "#636efa",
           "#EF553B",
           "#00cc96",
           "#ab63fa",
           "#FFA15A",
           "#19d3f3",
           "#FF6692",
           "#B6E880",
           "#FF97FF",
           "#FECB52"
          ],
          "font": {
           "color": "#2a3f5f"
          },
          "geo": {
           "bgcolor": "white",
           "lakecolor": "white",
           "landcolor": "#E5ECF6",
           "showlakes": true,
           "showland": true,
           "subunitcolor": "white"
          },
          "hoverlabel": {
           "align": "left"
          },
          "hovermode": "closest",
          "mapbox": {
           "style": "light"
          },
          "paper_bgcolor": "white",
          "plot_bgcolor": "#E5ECF6",
          "polar": {
           "angularaxis": {
            "gridcolor": "white",
            "linecolor": "white",
            "ticks": ""
           },
           "bgcolor": "#E5ECF6",
           "radialaxis": {
            "gridcolor": "white",
            "linecolor": "white",
            "ticks": ""
           }
          },
          "scene": {
           "xaxis": {
            "backgroundcolor": "#E5ECF6",
            "gridcolor": "white",
            "gridwidth": 2,
            "linecolor": "white",
            "showbackground": true,
            "ticks": "",
            "zerolinecolor": "white"
           },
           "yaxis": {
            "backgroundcolor": "#E5ECF6",
            "gridcolor": "white",
            "gridwidth": 2,
            "linecolor": "white",
            "showbackground": true,
            "ticks": "",
            "zerolinecolor": "white"
           },
           "zaxis": {
            "backgroundcolor": "#E5ECF6",
            "gridcolor": "white",
            "gridwidth": 2,
            "linecolor": "white",
            "showbackground": true,
            "ticks": "",
            "zerolinecolor": "white"
           }
          },
          "shapedefaults": {
           "line": {
            "color": "#2a3f5f"
           }
          },
          "ternary": {
           "aaxis": {
            "gridcolor": "white",
            "linecolor": "white",
            "ticks": ""
           },
           "baxis": {
            "gridcolor": "white",
            "linecolor": "white",
            "ticks": ""
           },
           "bgcolor": "#E5ECF6",
           "caxis": {
            "gridcolor": "white",
            "linecolor": "white",
            "ticks": ""
           }
          },
          "title": {
           "x": 0.05
          },
          "xaxis": {
           "automargin": true,
           "gridcolor": "white",
           "linecolor": "white",
           "ticks": "",
           "title": {
            "standoff": 15
           },
           "zerolinecolor": "white",
           "zerolinewidth": 2
          },
          "yaxis": {
           "automargin": true,
           "gridcolor": "white",
           "linecolor": "white",
           "ticks": "",
           "title": {
            "standoff": 15
           },
           "zerolinecolor": "white",
           "zerolinewidth": 2
          }
         }
        },
        "width": 800,
        "xaxis": {
         "anchor": "y",
         "domain": [
          0,
          1
         ],
         "title": {
          "text": "model tested"
         }
        },
        "yaxis": {
         "anchor": "x",
         "domain": [
          0,
          1
         ],
         "title": {
          "text": "determination coefficient"
         }
        }
       }
      }
     },
     "metadata": {},
     "output_type": "display_data"
    }
   ],
   "source": [
    "ps = px.bar(x=\"simplified_name\", y = \"r2_round\", data_frame=score_model,\n",
    "             labels={\"simplified_name\":\"model tested\", \"r2_round\":\"determination coefficient\"},\n",
    "             hover_data=['r2_score'], color='r2_score', color_continuous_scale='Spectral',\n",
    "             text_auto=True, width=800)\n",
    "ps.update_coloraxes(showscale=False)\n",
    "ps.update(layout_showlegend=False)\n",
    "ps.show()"
   ]
  }
 ],
 "metadata": {
  "kernelspec": {
   "display_name": "Python 3.10.8 64-bit (microsoft store)",
   "language": "python",
   "name": "python3"
  },
  "language_info": {
   "codemirror_mode": {
    "name": "ipython",
    "version": 3
   },
   "file_extension": ".py",
   "mimetype": "text/x-python",
   "name": "python",
   "nbconvert_exporter": "python",
   "pygments_lexer": "ipython3",
   "version": "3.10.8"
  },
  "orig_nbformat": 4,
  "vscode": {
   "interpreter": {
    "hash": "f051514c3c3f25d6a4d371df10e2175126c3741bf115cca1aeaf8b2da7487448"
   }
  }
 },
 "nbformat": 4,
 "nbformat_minor": 2
}
