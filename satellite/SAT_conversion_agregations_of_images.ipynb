{
  "cells": [
    {
      "cell_type": "markdown",
      "metadata": {
        "id": "h9W4F-AxnYe2"
      },
      "source": [
        "#### UTILITARY SCRIPT TO CONVERT IMAGES IN AGGREGATED DATA"
      ]
    },
    {
      "cell_type": "code",
      "execution_count": 2,
      "metadata": {
        "id": "uyvYSoQHnYe7"
      },
      "outputs": [],
      "source": [
        "import pandas as pd\n",
        "import numpy as np\n",
        "import json\n",
        "import itertools\n",
        "import copy\n"
      ]
    },
    {
      "cell_type": "markdown",
      "metadata": {
        "id": "M6Cn_M0GnYe-"
      },
      "source": [
        "Taille (en m2) des données compilées :"
      ]
    },
    {
      "cell_type": "code",
      "execution_count": 3,
      "metadata": {
        "id": "J8ynT29unYe_"
      },
      "outputs": [],
      "source": [
        "DIM_AGREGATION = 25 # X 25 meters"
      ]
    },
    {
      "cell_type": "markdown",
      "metadata": {
        "id": "F9cH9CrDnYfA"
      },
      "source": [
        "Import initial list of parcelles :"
      ]
    },
    {
      "cell_type": "code",
      "execution_count": 4,
      "metadata": {
        "id": "y6o1z9PvnYfD"
      },
      "outputs": [],
      "source": [
        "df = pd.read_excel('IFN/data_parcelles_with_gps.xlsx')"
      ]
    },
    {
      "cell_type": "code",
      "execution_count": 5,
      "metadata": {
        "id": "FjOkIDe0nYfE"
      },
      "outputs": [],
      "source": [
        "df_base = df[['PARCELLE','LFI']]"
      ]
    },
    {
      "cell_type": "markdown",
      "metadata": {
        "id": "bZqFz1_CnYfE"
      },
      "source": [
        "----------------"
      ]
    },
    {
      "cell_type": "markdown",
      "metadata": {
        "id": "Wm_Y57KKnYfF"
      },
      "source": [
        "#### 1) To Import and to convert a unique JSON File of satellites images :"
      ]
    },
    {
      "cell_type": "code",
      "execution_count": 5,
      "metadata": {
        "id": "A7SbR_egnYfG"
      },
      "outputs": [],
      "source": [
        "LFI = 3 # define the campaign\n",
        "\n",
        "First_parcelle = '51' #the name of the first parcelle of the dict"
      ]
    },
    {
      "cell_type": "code",
      "execution_count": 18,
      "metadata": {
        "id": "hcyHpRZHnYfI"
      },
      "outputs": [],
      "source": [
        "Extension = '' #in the case of problematics parcelles file, to fill with expression like \"_pb1\""
      ]
    },
    {
      "cell_type": "code",
      "execution_count": 16,
      "metadata": {
        "id": "KKhn3eTRnYfJ"
      },
      "outputs": [],
      "source": [
        "with open(f\"Forest-Protection-Satellite-Images/Results_Images_Stock/Images_LANDSAT_LFI{LFI}{Extension}.json\", 'r') as openfile: \n",
        "    data = json.load(openfile)"
      ]
    },
    {
      "cell_type": "markdown",
      "metadata": {
        "id": "vvwg0av2nYfJ"
      },
      "source": [
        "Verifications (lenght, LFI and dims) :"
      ]
    },
    {
      "cell_type": "code",
      "execution_count": 17,
      "metadata": {
        "id": "wIc2SaiHnYfJ",
        "outputId": "ff67af60-edf3-4785-ce13-3efca036adb9"
      },
      "outputs": [
        {
          "data": {
            "text/plain": [
              "240"
            ]
          },
          "execution_count": 17,
          "metadata": {},
          "output_type": "execute_result"
        }
      ],
      "source": [
        "len(data)"
      ]
    },
    {
      "cell_type": "markdown",
      "metadata": {
        "id": "oEQzHkr6nYfK"
      },
      "source": [
        "Try with a parcelle:"
      ]
    },
    {
      "cell_type": "code",
      "execution_count": null,
      "metadata": {
        "id": "BhtQmFDEnYfL",
        "outputId": "2e55247d-b95d-4547-dabc-a0f2756681ed"
      },
      "outputs": [
        {
          "data": {
            "text/plain": [
              "'LFI4'"
            ]
          },
          "execution_count": 243,
          "metadata": {},
          "output_type": "execute_result"
        }
      ],
      "source": [
        "data[First_parcelle]['LFI']"
      ]
    },
    {
      "cell_type": "code",
      "execution_count": null,
      "metadata": {
        "id": "PYZ4rFNdnYfN",
        "outputId": "0a4e3456-ab7b-40bd-8a90-0ae4fdbbc2be"
      },
      "outputs": [
        {
          "data": {
            "text/plain": [
              "(200, 200)"
            ]
          },
          "execution_count": 244,
          "metadata": {},
          "output_type": "execute_result"
        }
      ],
      "source": [
        "np.shape(data[First_parcelle]['IMAGES_SAT']['NDVI'])"
      ]
    },
    {
      "cell_type": "markdown",
      "metadata": {
        "id": "7WVd2r2znYfO"
      },
      "source": [
        "LFI Agregation (if error : correspondance false)"
      ]
    },
    {
      "cell_type": "code",
      "execution_count": null,
      "metadata": {
        "id": "rKEb1MC5nYfO"
      },
      "outputs": [],
      "source": [
        "LFI = data[First_parcelle]['LFI']\n",
        "df_result = df_base.loc[df_base['LFI']==LFI,:].reset_index(drop=True)"
      ]
    },
    {
      "cell_type": "markdown",
      "metadata": {
        "id": "mI4O9I8YnYfP"
      },
      "source": [
        "Script and loop :"
      ]
    },
    {
      "cell_type": "code",
      "execution_count": null,
      "metadata": {
        "id": "u6Av6az4nYfQ"
      },
      "outputs": [],
      "source": [
        "nb_parc = len(df_result)\n",
        "problematic_parcelles = []\n",
        "list_parcelle = df_result['PARCELLE'].tolist()\n",
        "width = np.shape(data[First_parcelle]['IMAGES_SAT']['NDVI'])[0]\n",
        "height = np.shape(data[First_parcelle]['IMAGES_SAT']['NDVI'])[1]\n",
        "range_w = np.arange(int((width - DIM_AGREGATION)/2), int((width + DIM_AGREGATION)/2))\n",
        "range_h = np.arange(int((height - DIM_AGREGATION)/2), int((height + DIM_AGREGATION)/2))\n",
        "ndvi_arr = np.empty(nb_parc)\n",
        "evi_arr = np.empty(nb_parc)\n",
        "ndmi_arr = np.empty(nb_parc)\n",
        "ndwi_arr = np.empty(nb_parc)\n",
        "dswi_arr = np.empty(nb_parc)\n",
        "MAPPING = {\n",
        "    'NDVI' : ndvi_arr,\n",
        "    'EVI' : evi_arr,\n",
        "    'NDMI' : ndmi_arr,\n",
        "    'NDWI' : ndwi_arr,\n",
        "    'DSWI' : dswi_arr\n",
        "}\n",
        "\n",
        "for ind, parc in enumerate(list_parcelle):\n",
        "    try:\n",
        "        for func_name, arr in MAPPING.items():\n",
        "            pixel_values = data[str(parc)]['IMAGES_SAT'][func_name]\n",
        "            arr[ind] = round(np.mean([pixel_values[tupl[0]][tupl[1]] for tupl in list(itertools.product(range_w,range_h))]),4)\n",
        "    except:\n",
        "        problematic_parcelles.append(parc)\n",
        "        for _ , arr in MAPPING.items():\n",
        "            arr[ind] = np.nan\n",
        "\n",
        "df_result['NDVI'] = ndvi_arr\n",
        "df_result['EVI'] = evi_arr\n",
        "df_result['NDMI'] = ndmi_arr\n",
        "df_result['NDWI'] = ndwi_arr\n",
        "df_result['DSWI'] = dswi_arr"
      ]
    },
    {
      "cell_type": "markdown",
      "metadata": {
        "id": "A07Je4QonYfR"
      },
      "source": [
        "Verify number of parcelles with \"NaN\" data :"
      ]
    },
    {
      "cell_type": "code",
      "execution_count": null,
      "metadata": {
        "id": "vDwoIifjnYfR",
        "outputId": "cec3054b-da9a-4f5a-a051-c3f218891fb6"
      },
      "outputs": [
        {
          "data": {
            "text/plain": [
              "2221"
            ]
          },
          "execution_count": 248,
          "metadata": {},
          "output_type": "execute_result"
        }
      ],
      "source": [
        "df_result['DSWI'].isnull().sum()"
      ]
    },
    {
      "cell_type": "code",
      "execution_count": null,
      "metadata": {
        "id": "59WYobx-nYfS",
        "outputId": "24f9290c-9e9b-460c-9303-51c409be8eb4"
      },
      "outputs": [
        {
          "data": {
            "text/plain": [
              "2221"
            ]
          },
          "execution_count": 249,
          "metadata": {},
          "output_type": "execute_result"
        }
      ],
      "source": [
        "len(problematic_parcelles)"
      ]
    },
    {
      "cell_type": "markdown",
      "metadata": {
        "id": "5h1WiHX2nYfT"
      },
      "source": [
        "Export :"
      ]
    },
    {
      "cell_type": "code",
      "execution_count": null,
      "metadata": {
        "id": "3AKgvvCcnYfT"
      },
      "outputs": [],
      "source": [
        "df_result.to_excel(f'./DATA_aggregated/Data_from_satellites_images_{LFI}_pb1.xlsx')"
      ]
    },
    {
      "cell_type": "markdown",
      "metadata": {
        "id": "GnrQeVJZnYfU"
      },
      "source": [
        "------------------"
      ]
    },
    {
      "cell_type": "markdown",
      "metadata": {
        "id": "Ivj136pqnYfU"
      },
      "source": [
        "#### 2) To Import and to convert multiple JSON Files of satellites images :"
      ]
    },
    {
      "cell_type": "markdown",
      "metadata": {
        "id": "v0edMFLrnYfV"
      },
      "source": [
        "Parameters :"
      ]
    },
    {
      "cell_type": "code",
      "execution_count": 7,
      "metadata": {
        "id": "2zI1FCD_nYfV"
      },
      "outputs": [],
      "source": [
        "nb_parts = 10 # numbers of files\n",
        "\n",
        "LFI_name = 'LFI3'\n",
        "\n",
        "LFI = 3\n",
        "\n",
        "width = 200 # of initial images\n",
        "\n",
        "height = 200 # of initial images\n"
      ]
    },
    {
      "cell_type": "markdown",
      "metadata": {
        "id": "5phpPorjnYfW"
      },
      "source": [
        "Loop for conversion in a list of 'nb_parts' dataframes..."
      ]
    },
    {
      "cell_type": "code",
      "execution_count": 8,
      "metadata": {
        "id": "Wov0rvNjnYfW",
        "outputId": "2262b450-5571-416d-f230-515f88cd55c6"
      },
      "outputs": [
        {
          "name": "stdout",
          "output_type": "stream",
          "text": [
            "Opening file part 1 with lenght 240 ...\n",
            "Conversion and aggregation...\n",
            "Creation of a dataframe...\n",
            "Difference of empty data for NDVI : 0\n",
            "Difference of empty data for EVI : 0\n",
            "Difference of empty data for NDMI : 0\n",
            "Difference of empty data for NDWI : 0\n",
            "Difference of empty data for DSWI : 0\n",
            "Done...\n",
            "Opening file part 2 with lenght 240 ...\n",
            "Conversion and aggregation...\n",
            "Creation of a dataframe...\n",
            "Difference of empty data for NDVI : 0\n",
            "Difference of empty data for EVI : 0\n",
            "Difference of empty data for NDMI : 0\n",
            "Difference of empty data for NDWI : 0\n",
            "Difference of empty data for DSWI : 0\n",
            "Done...\n",
            "Opening file part 3 with lenght 240 ...\n",
            "Conversion and aggregation...\n",
            "Creation of a dataframe...\n",
            "Difference of empty data for NDVI : 0\n",
            "Difference of empty data for EVI : 0\n",
            "Difference of empty data for NDMI : 0\n",
            "Difference of empty data for NDWI : 0\n",
            "Difference of empty data for DSWI : 0\n",
            "Done...\n",
            "Opening file part 4 with lenght 240 ...\n",
            "Conversion and aggregation...\n",
            "Creation of a dataframe...\n",
            "Difference of empty data for NDVI : 0\n",
            "Difference of empty data for EVI : 0\n",
            "Difference of empty data for NDMI : 0\n",
            "Difference of empty data for NDWI : 0\n",
            "Difference of empty data for DSWI : 0\n",
            "Done...\n",
            "Opening file part 5 with lenght 240 ...\n",
            "Conversion and aggregation...\n",
            "Creation of a dataframe...\n",
            "Difference of empty data for NDVI : 0\n",
            "Difference of empty data for EVI : 0\n",
            "Difference of empty data for NDMI : 0\n",
            "Difference of empty data for NDWI : 0\n",
            "Difference of empty data for DSWI : 0\n",
            "Done...\n",
            "Opening file part 6 with lenght 240 ...\n",
            "Conversion and aggregation...\n",
            "Creation of a dataframe...\n",
            "Difference of empty data for NDVI : 0\n",
            "Difference of empty data for EVI : 0\n",
            "Difference of empty data for NDMI : 0\n",
            "Difference of empty data for NDWI : 0\n",
            "Difference of empty data for DSWI : 0\n",
            "Done...\n",
            "Opening file part 7 with lenght 240 ...\n",
            "Conversion and aggregation...\n",
            "Creation of a dataframe...\n",
            "Difference of empty data for NDVI : 0\n",
            "Difference of empty data for EVI : 0\n",
            "Difference of empty data for NDMI : 0\n",
            "Difference of empty data for NDWI : 0\n",
            "Difference of empty data for DSWI : 0\n",
            "Done...\n",
            "Opening file part 8 with lenght 240 ...\n",
            "Conversion and aggregation...\n",
            "Creation of a dataframe...\n",
            "Difference of empty data for NDVI : 0\n",
            "Difference of empty data for EVI : 0\n",
            "Difference of empty data for NDMI : 0\n",
            "Difference of empty data for NDWI : 0\n",
            "Difference of empty data for DSWI : 0\n",
            "Done...\n",
            "Opening file part 9 with lenght 240 ...\n",
            "Conversion and aggregation...\n",
            "Creation of a dataframe...\n",
            "Difference of empty data for NDVI : 0\n",
            "Difference of empty data for EVI : 0\n",
            "Difference of empty data for NDMI : 0\n",
            "Difference of empty data for NDWI : 0\n",
            "Difference of empty data for DSWI : 0\n",
            "Done...\n",
            "Opening file part 10 with lenght 243 ...\n",
            "Conversion and aggregation...\n",
            "Creation of a dataframe...\n",
            "Difference of empty data for NDVI : 0\n",
            "Difference of empty data for EVI : 0\n",
            "Difference of empty data for NDMI : 0\n",
            "Difference of empty data for NDWI : 0\n",
            "Difference of empty data for DSWI : 0\n",
            "Done...\n",
            "Finish...\n"
          ]
        }
      ],
      "source": [
        "df_result_base = df_base.loc[df_base['LFI']==LFI_name,:].reset_index(drop=True)\n",
        "dataframes_results = []\n",
        "nb_parc = len(df_result_base)\n",
        "list_parcelle = df_result_base['PARCELLE'].tolist()\n",
        "range_w = np.arange(int((width - DIM_AGREGATION)/2), int((width + DIM_AGREGATION)/2))\n",
        "range_h = np.arange(int((height - DIM_AGREGATION)/2), int((height + DIM_AGREGATION)/2))\n",
        "\n",
        "\n",
        "for i in range(nb_parts):\n",
        "    try:\n",
        "        with open(f\"Forest-Protection-Satellite-Images/Results_Images_Stock/Images_LANDSAT_LFI{LFI}_part{i+1}.json\", 'r') as openfile:\n",
        "            data = json.load(openfile)\n",
        "        print(f'Opening file part {i+1} with lenght {len(data)} ...')\n",
        "\n",
        "        empty_parcelles = []\n",
        "        df_result = copy.copy(df_result_base)\n",
        "        ndvi_arr = np.empty(nb_parc)\n",
        "        evi_arr = np.empty(nb_parc)\n",
        "        ndmi_arr = np.empty(nb_parc)\n",
        "        ndwi_arr = np.empty(nb_parc)\n",
        "        dswi_arr = np.empty(nb_parc)\n",
        "        MAPPING = {\n",
        "            'NDVI' : ndvi_arr,\n",
        "            'EVI' : evi_arr,\n",
        "            'NDMI' : ndmi_arr,\n",
        "            'NDWI' : ndwi_arr,\n",
        "            'DSWI' : dswi_arr\n",
        "        }\n",
        "\n",
        "        print('Conversion and aggregation...')\n",
        "        try:\n",
        "            for ind, parc in enumerate(list_parcelle):\n",
        "                try:\n",
        "                    for func_name, arr in MAPPING.items():\n",
        "                        pixel_values = np.empty(2)\n",
        "                        pixel_values = data[str(parc)]['IMAGES_SAT'][func_name]\n",
        "                        arr[ind] = round(np.mean([pixel_values[tupl[0]][tupl[1]] for tupl in list(itertools.product(range_w,range_h))]),4)\n",
        "                except:\n",
        "                    empty_parcelles.append(parc)\n",
        "                    for _ , arr in MAPPING.items():\n",
        "                        arr[ind] = np.nan\n",
        "        except:\n",
        "            print(f'Conversion\\'s problem with file part {i+i} ...')\n",
        "\n",
        "        print('Creation of a dataframe...')\n",
        "                \n",
        "        df_result['NDVI'] = ndvi_arr\n",
        "        df_result['EVI'] = evi_arr\n",
        "        df_result['NDMI'] = ndmi_arr\n",
        "        df_result['NDWI'] = ndwi_arr\n",
        "        df_result['DSWI'] = dswi_arr\n",
        "\n",
        "        dataframes_results.append(df_result)\n",
        "\n",
        "        print(f\"Difference of empty data for NDVI : {len(empty_parcelles) - df_result['NDVI'].isnull().sum()}\")\n",
        "        print(f\"Difference of empty data for EVI : {len(empty_parcelles) - df_result['EVI'].isnull().sum()}\")\n",
        "        print(f\"Difference of empty data for NDMI : {len(empty_parcelles) - df_result['NDMI'].isnull().sum()}\")\n",
        "        print(f\"Difference of empty data for NDWI : {len(empty_parcelles) - df_result['NDWI'].isnull().sum()}\")\n",
        "        print(f\"Difference of empty data for DSWI : {len(empty_parcelles) - df_result['DSWI'].isnull().sum()}\")\n",
        "\n",
        "    except:\n",
        "        print(f'Opening problem with file part {i+i} ...')\n",
        "    print('Done...')\n",
        "print('Finish...')              "
      ]
    },
    {
      "cell_type": "markdown",
      "metadata": {
        "id": "9EIgIpORnYfZ"
      },
      "source": [
        "Join with the 'n_parts' dataframes ..."
      ]
    },
    {
      "cell_type": "code",
      "execution_count": 9,
      "metadata": {
        "id": "qqEJV2dsnYfb",
        "outputId": "93b0f809-dd3e-40f7-cd0b-7670f95e69fd"
      },
      "outputs": [
        {
          "name": "stdout",
          "output_type": "stream",
          "text": [
            "Join n°0 : 1200 data copied ...\n",
            "Join n°1 : 1200 data copied ...\n",
            "Join n°2 : 1200 data copied ...\n",
            "Join n°3 : 1200 data copied ...\n",
            "Join n°4 : 1200 data copied ...\n",
            "Join n°5 : 1200 data copied ...\n",
            "Join n°6 : 1200 data copied ...\n",
            "Join n°7 : 1200 data copied ...\n",
            "Join n°8 : 1200 data copied ...\n",
            "Join n°9 : 1215 data copied ...\n"
          ]
        }
      ],
      "source": [
        "nb_lines = len(df_result_base)\n",
        "result_arr = np.empty((nb_lines,5))\n",
        "\n",
        "for i in range(nb_parts):\n",
        "    c=0\n",
        "    arr = np.empty((nb_lines,5))\n",
        "    arr = dataframes_results[i].iloc[:,2:].to_numpy()\n",
        "    for line in range(nb_lines):\n",
        "        for col in range(5):\n",
        "            if str(arr[line][col]) != 'nan':\n",
        "                result_arr[line][col] = copy.copy(arr[line][col])\n",
        "                c+=1\n",
        "    print(f'Join n°{i} : {c} data copied ...')\n",
        "    \n",
        "    "
      ]
    },
    {
      "cell_type": "markdown",
      "metadata": {
        "id": "uerJ1_0MnYfb"
      },
      "source": [
        "Creation of the datafame result :"
      ]
    },
    {
      "cell_type": "code",
      "execution_count": 10,
      "metadata": {
        "id": "HQFM3KQwnYfc",
        "outputId": "0c2aa4c4-6595-469e-bbb1-56c696f8f721"
      },
      "outputs": [
        {
          "data": {
            "text/html": [
              "<div>\n",
              "<style scoped>\n",
              "    .dataframe tbody tr th:only-of-type {\n",
              "        vertical-align: middle;\n",
              "    }\n",
              "\n",
              "    .dataframe tbody tr th {\n",
              "        vertical-align: top;\n",
              "    }\n",
              "\n",
              "    .dataframe thead th {\n",
              "        text-align: right;\n",
              "    }\n",
              "</style>\n",
              "<table border=\"1\" class=\"dataframe\">\n",
              "  <thead>\n",
              "    <tr style=\"text-align: right;\">\n",
              "      <th></th>\n",
              "      <th>PARCELLE</th>\n",
              "      <th>LFI</th>\n",
              "      <th>NDVI</th>\n",
              "      <th>EVI</th>\n",
              "      <th>NDMI</th>\n",
              "      <th>NDWI</th>\n",
              "      <th>DSWI</th>\n",
              "    </tr>\n",
              "  </thead>\n",
              "  <tbody>\n",
              "    <tr>\n",
              "      <th>0</th>\n",
              "      <td>51</td>\n",
              "      <td>LFI3</td>\n",
              "      <td>0.6923</td>\n",
              "      <td>0.0272</td>\n",
              "      <td>0.2294</td>\n",
              "      <td>-0.6305</td>\n",
              "      <td>0.9579</td>\n",
              "    </tr>\n",
              "    <tr>\n",
              "      <th>1</th>\n",
              "      <td>384</td>\n",
              "      <td>LFI3</td>\n",
              "      <td>0.3752</td>\n",
              "      <td>0.0148</td>\n",
              "      <td>0.0619</td>\n",
              "      <td>-0.3731</td>\n",
              "      <td>0.4551</td>\n",
              "    </tr>\n",
              "    <tr>\n",
              "      <th>2</th>\n",
              "      <td>1239</td>\n",
              "      <td>LFI3</td>\n",
              "      <td>0.3704</td>\n",
              "      <td>0.0109</td>\n",
              "      <td>0.1901</td>\n",
              "      <td>-0.3553</td>\n",
              "      <td>0.5237</td>\n",
              "    </tr>\n",
              "    <tr>\n",
              "      <th>3</th>\n",
              "      <td>1419</td>\n",
              "      <td>LFI3</td>\n",
              "      <td>0.3690</td>\n",
              "      <td>0.0100</td>\n",
              "      <td>0.2203</td>\n",
              "      <td>-0.3510</td>\n",
              "      <td>0.5608</td>\n",
              "    </tr>\n",
              "    <tr>\n",
              "      <th>4</th>\n",
              "      <td>1431</td>\n",
              "      <td>LFI3</td>\n",
              "      <td>0.1174</td>\n",
              "      <td>0.0028</td>\n",
              "      <td>0.0660</td>\n",
              "      <td>-0.1507</td>\n",
              "      <td>0.1888</td>\n",
              "    </tr>\n",
              "    <tr>\n",
              "      <th>...</th>\n",
              "      <td>...</td>\n",
              "      <td>...</td>\n",
              "      <td>...</td>\n",
              "      <td>...</td>\n",
              "      <td>...</td>\n",
              "      <td>...</td>\n",
              "      <td>...</td>\n",
              "    </tr>\n",
              "    <tr>\n",
              "      <th>2398</th>\n",
              "      <td>164918</td>\n",
              "      <td>LFI3</td>\n",
              "      <td>0.5413</td>\n",
              "      <td>0.0146</td>\n",
              "      <td>0.1105</td>\n",
              "      <td>-0.4951</td>\n",
              "      <td>0.6097</td>\n",
              "    </tr>\n",
              "    <tr>\n",
              "      <th>2399</th>\n",
              "      <td>164922</td>\n",
              "      <td>LFI3</td>\n",
              "      <td>0.5173</td>\n",
              "      <td>0.0180</td>\n",
              "      <td>0.1398</td>\n",
              "      <td>-0.4851</td>\n",
              "      <td>0.6109</td>\n",
              "    </tr>\n",
              "    <tr>\n",
              "      <th>2400</th>\n",
              "      <td>164999</td>\n",
              "      <td>LFI3</td>\n",
              "      <td>0.5339</td>\n",
              "      <td>0.0158</td>\n",
              "      <td>0.0742</td>\n",
              "      <td>-0.5077</td>\n",
              "      <td>0.5778</td>\n",
              "    </tr>\n",
              "    <tr>\n",
              "      <th>2401</th>\n",
              "      <td>165003</td>\n",
              "      <td>LFI3</td>\n",
              "      <td>0.5174</td>\n",
              "      <td>0.0173</td>\n",
              "      <td>0.1501</td>\n",
              "      <td>-0.4745</td>\n",
              "      <td>0.6091</td>\n",
              "    </tr>\n",
              "    <tr>\n",
              "      <th>2402</th>\n",
              "      <td>165065</td>\n",
              "      <td>LFI3</td>\n",
              "      <td>0.4907</td>\n",
              "      <td>0.0172</td>\n",
              "      <td>0.1559</td>\n",
              "      <td>-0.4798</td>\n",
              "      <td>0.6052</td>\n",
              "    </tr>\n",
              "  </tbody>\n",
              "</table>\n",
              "<p>2403 rows × 7 columns</p>\n",
              "</div>"
            ],
            "text/plain": [
              "      PARCELLE   LFI    NDVI     EVI    NDMI    NDWI    DSWI\n",
              "0           51  LFI3  0.6923  0.0272  0.2294 -0.6305  0.9579\n",
              "1          384  LFI3  0.3752  0.0148  0.0619 -0.3731  0.4551\n",
              "2         1239  LFI3  0.3704  0.0109  0.1901 -0.3553  0.5237\n",
              "3         1419  LFI3  0.3690  0.0100  0.2203 -0.3510  0.5608\n",
              "4         1431  LFI3  0.1174  0.0028  0.0660 -0.1507  0.1888\n",
              "...        ...   ...     ...     ...     ...     ...     ...\n",
              "2398    164918  LFI3  0.5413  0.0146  0.1105 -0.4951  0.6097\n",
              "2399    164922  LFI3  0.5173  0.0180  0.1398 -0.4851  0.6109\n",
              "2400    164999  LFI3  0.5339  0.0158  0.0742 -0.5077  0.5778\n",
              "2401    165003  LFI3  0.5174  0.0173  0.1501 -0.4745  0.6091\n",
              "2402    165065  LFI3  0.4907  0.0172  0.1559 -0.4798  0.6052\n",
              "\n",
              "[2403 rows x 7 columns]"
            ]
          },
          "execution_count": 10,
          "metadata": {},
          "output_type": "execute_result"
        }
      ],
      "source": [
        "df_result = copy.copy(df_result_base)\n",
        "df_result[['NDVI','EVI','NDMI','NDWI','DSWI']] = result_arr\n",
        "df_result"
      ]
    },
    {
      "cell_type": "markdown",
      "metadata": {
        "id": "BCXus3IVnYfc"
      },
      "source": [
        "Test with a parcelle :"
      ]
    },
    {
      "cell_type": "code",
      "execution_count": 11,
      "metadata": {
        "id": "9dNobs-qnYfc",
        "outputId": "10db823c-1dc3-447c-be37-0995cbb5e05a"
      },
      "outputs": [
        {
          "data": {
            "text/html": [
              "<div>\n",
              "<style scoped>\n",
              "    .dataframe tbody tr th:only-of-type {\n",
              "        vertical-align: middle;\n",
              "    }\n",
              "\n",
              "    .dataframe tbody tr th {\n",
              "        vertical-align: top;\n",
              "    }\n",
              "\n",
              "    .dataframe thead th {\n",
              "        text-align: right;\n",
              "    }\n",
              "</style>\n",
              "<table border=\"1\" class=\"dataframe\">\n",
              "  <thead>\n",
              "    <tr style=\"text-align: right;\">\n",
              "      <th></th>\n",
              "      <th>PARCELLE</th>\n",
              "      <th>LFI</th>\n",
              "      <th>NDVI</th>\n",
              "      <th>EVI</th>\n",
              "      <th>NDMI</th>\n",
              "      <th>NDWI</th>\n",
              "      <th>DSWI</th>\n",
              "    </tr>\n",
              "  </thead>\n",
              "  <tbody>\n",
              "    <tr>\n",
              "      <th>37</th>\n",
              "      <td>12298</td>\n",
              "      <td>LFI3</td>\n",
              "      <td>0.4262</td>\n",
              "      <td>0.0138</td>\n",
              "      <td>0.1572</td>\n",
              "      <td>-0.3929</td>\n",
              "      <td>0.4992</td>\n",
              "    </tr>\n",
              "  </tbody>\n",
              "</table>\n",
              "</div>"
            ],
            "text/plain": [
              "    PARCELLE   LFI    NDVI     EVI    NDMI    NDWI    DSWI\n",
              "37     12298  LFI3  0.4262  0.0138  0.1572 -0.3929  0.4992"
            ]
          },
          "execution_count": 11,
          "metadata": {},
          "output_type": "execute_result"
        }
      ],
      "source": [
        "df_result.loc[df_result['PARCELLE']==12298,:]"
      ]
    },
    {
      "cell_type": "code",
      "execution_count": 12,
      "metadata": {
        "id": "nwbatI4dnYfd"
      },
      "outputs": [],
      "source": [
        "df_result.to_excel(f'Forest-Protection-Satellite-Images/Data_from_satellites_images_{LFI_name}.xlsx')"
      ]
    }
  ],
  "metadata": {
    "colab": {
      "provenance": []
    },
    "kernelspec": {
      "display_name": "Python 3.10.8 64-bit (microsoft store)",
      "language": "python",
      "name": "python3"
    },
    "language_info": {
      "codemirror_mode": {
        "name": "ipython",
        "version": 3
      },
      "file_extension": ".py",
      "mimetype": "text/x-python",
      "name": "python",
      "nbconvert_exporter": "python",
      "pygments_lexer": "ipython3",
      "version": "3.10.8"
    },
    "orig_nbformat": 4,
    "vscode": {
      "interpreter": {
        "hash": "f051514c3c3f25d6a4d371df10e2175126c3741bf115cca1aeaf8b2da7487448"
      }
    }
  },
  "nbformat": 4,
  "nbformat_minor": 0
}
